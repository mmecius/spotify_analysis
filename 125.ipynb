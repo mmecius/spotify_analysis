{
 "nbformat": 4,
 "nbformat_minor": 0,
 "metadata": {
  "kernelspec": {
   "display_name": "Python 3",
   "language": "python",
   "name": "python3"
  },
  "language_info": {
   "codemirror_mode": {
    "name": "ipython",
    "version": 3
   },
   "file_extension": ".py",
   "mimetype": "text/x-python",
   "name": "python",
   "nbconvert_exporter": "python",
   "pygments_lexer": "ipython3",
   "version": "3.7.7"
  },
  "colab": {
   "name": "125.ipynb",
   "provenance": []
  }
 },
 "cells": [
  {
   "cell_type": "markdown",
   "metadata": {
    "id": "0kDHPydpXzjt"
   },
   "source": [
    "# Module 1: Data Wrangling with Python\n",
    "## Sprint 2: Data Processing with NumPy and Pandas\n",
    "## Part 5: Top 50 Spotify Tracks of 2020\n"
   ]
  },
  {
   "cell_type": "markdown",
   "metadata": {
    "id": "xW-PO5eTXzjx"
   },
   "source": [
    "## About this Part\n",
    "\n",
    "Congrats!\n",
    "You completed almost all assignments and tasks of this Sprint.\n",
    "You did a great job.\n",
    "In this Part, you will need to prove all the skills that you learned.\n",
    "As the final assignment of this Sprint, you will analyse the Top 50 Spotify Tracks 2020 dataset.\n",
    "You will have to apply all what you have learned about Data Analysis, Linear Algebra, NumPy, and Pandas to complete this task.\n",
    "\n",
    "## Objectives for this Part\n",
    "\n",
    "- Practice working with data from Kaggle.\n",
    "- Practice performing basic EDA.\n",
    "- Practice reading data, performing queries, and filtering data using Pandas.\n",
    "\n",
    "## Requirements\n",
    "\n",
    "- Download the data from [Spotify Top 50 Tracks of 2020 dataset](https://www.kaggle.com/atillacolak/top-50-spotify-tracks-2020).\n",
    "- Load the data using Pandas.\n",
    "- Perform data cleaning by:\n",
    "  - Handling missing values.\n",
    "  - Removing duplicate samples and features. drop_duplicates()\n",
    "  - Treating the [outliers](https://towardsdatascience.com/ways-to-detect-and-remove-the-outliers-404d16608dba).\n",
    "- Perform exploratory data analysis. Your analysis should provide answers to these questions:\n",
    "  - How many observations there are in this dataset?\n",
    "  - How many features this dataset has?\n",
    "  - Which of the features are categorical?\n",
    "  - Which of the features are numeric?\n",
    "  - Are there any artists that have more than 1 popular track? If yes, which and how many?\n",
    "  - Who was the most popular artist?\n",
    "  - How many artists in total have their songs in the top 50?\n",
    "  - Are there any albums that have more than 1 popular track? If yes, which and how many?\n",
    "  - How many albums in total have their songs in the top 50?\n",
    "  - Which tracks have their danceability score above 0.7?\n",
    "  - Which tracks have their danceability score below 0.4?\n",
    "  - Which tracks have their loudness above -5?\n",
    "  - Which tracks have their loudness below -8?\n",
    "  - Which track is the longest?\n",
    "  - Which track is the shortest?\n",
    "  - Which genre is the most popular?\n",
    "  - Which genres have just one song on the top 50?\n",
    "  - How many genres in total are represented in the top 50?\n",
    "  - Which features are strongly positively correlated?\n",
    "  - Which features are strongly negatively correlated?\n",
    "  - Which features are not correlated?\n",
    "  - How the danceability score compares between Pop, Hip-Hop/Rap, Dance/Electronic, and Alternative/Indie genres?\n",
    "  - How the loudness score compares between Pop, Hip-Hop/Rap, Dance/Electronic, and Alternative/Indie genres?\n",
    "  - How the acousticness score compares between Pop, Hip-Hop/Rap, Dance/Electronic, and Alternative/Indie genres?\n",
    "- Provide clear explanations in your notebook. Your explanations should inform the reader what are you trying to achieve, what results did you get, and what these results mean.\n",
    "- Provide suggestions about how your analysis can be improved.\n",
    "\n",
    "## Evaluation Criteria\n",
    "\n",
    "- Adherence to the requirements. How well did you meet the requirements?\n",
    "- Code quality. Was your code well-structure? Did you use the right levels of abstraction? Did you remove commented out and unused code? Did you adhere to the PEP8?\n",
    "- Code performance. Did you use the right algorithms and data structures to solve the problems?\n",
    "\n",
    "## Sample Correction Questions\n",
    "\n",
    "During a correction, you may get asked questions that test your understanding of covered topics.\n",
    "\n",
    "- What advantages do NumPy arrays have over Python lists?\n",
    "- What makes computation on NumPy arrays so fast?\n",
    "- What are the rules of broadcasting?\n",
    "- What advantages do Pandas have over NumPy?\n",
    "- What is a DataFrame in Pandas?\n",
    "\n"
   ]
  },
  {
   "cell_type": "markdown",
   "source": [
    "# Introduction:\n",
    "Having the dataset of Spotify Top 50 Tracks of 2020. Performing exploratory data analysis to answer the questions above."
   ],
   "metadata": {
    "collapsed": false
   }
  },
  {
   "cell_type": "code",
   "execution_count": 44,
   "outputs": [],
   "source": [
    "import pandas as pd\n",
    "import numpy as np\n",
    "import seaborn as sb\n",
    "import matplotlib.pyplot as plt"
   ],
   "metadata": {
    "collapsed": false,
    "pycharm": {
     "name": "#%%\n"
    }
   }
  },
  {
   "cell_type": "code",
   "execution_count": 45,
   "outputs": [
    {
     "data": {
      "text/plain": "Index(['artist', 'album', 'track_name', 'track_id', 'energy', 'danceability',\n       'key', 'loudness', 'acousticness', 'speechiness', 'instrumentalness',\n       'liveness', 'valence', 'tempo', 'duration_ms', 'genre'],\n      dtype='object')"
     },
     "execution_count": 45,
     "metadata": {},
     "output_type": "execute_result"
    }
   ],
   "source": [
    "df = pd.read_csv(\"spotifytoptracks.csv\", index_col=0)\n",
    "df.columns"
   ],
   "metadata": {
    "collapsed": false,
    "pycharm": {
     "name": "#%%\n"
    }
   }
  },
  {
   "cell_type": "code",
   "execution_count": 46,
   "outputs": [
    {
     "data": {
      "text/plain": "(50, 16)"
     },
     "execution_count": 46,
     "metadata": {},
     "output_type": "execute_result"
    }
   ],
   "source": [
    "df.shape"
   ],
   "metadata": {
    "collapsed": false,
    "pycharm": {
     "name": "#%%\n"
    }
   }
  },
  {
   "cell_type": "code",
   "execution_count": 47,
   "outputs": [
    {
     "data": {
      "text/plain": "        artist                                  album             track_name  \\\n0   The Weeknd                            After Hours        Blinding Lights   \n1  Tones And I                           Dance Monkey           Dance Monkey   \n2  Roddy Ricch  Please Excuse Me For Being Antisocial                The Box   \n3    SAINt JHN                  Roses (Imanbek Remix)  Roses - Imanbek Remix   \n4     Dua Lipa                       Future Nostalgia        Don't Start Now   \n\n                 track_id  energy  danceability  key  loudness  acousticness  \\\n0  0VjIjW4GlUZAMYd2vXMi3b   0.730         0.514    1    -5.934       0.00146   \n1  1rgnBhdG2JDFTbYkYRZAku   0.593         0.825    6    -6.401       0.68800   \n2  0nbXyq5TXYPCO7pr3N8S4I   0.586         0.896   10    -6.687       0.10400   \n3  2Wo6QQD1KMDWeFkkjLqwx5   0.721         0.785    8    -5.457       0.01490   \n4  3PfIrDoz19wz7qK7tYeu62   0.793         0.793   11    -4.521       0.01230   \n\n   speechiness  instrumentalness  liveness  valence    tempo  duration_ms  \\\n0       0.0598          0.000095    0.0897    0.334  171.005       200040   \n1       0.0988          0.000161    0.1700    0.540   98.078       209755   \n2       0.0559          0.000000    0.7900    0.642  116.971       196653   \n3       0.0506          0.004320    0.2850    0.894  121.962       176219   \n4       0.0830          0.000000    0.0951    0.679  123.950       183290   \n\n               genre  \n0           R&B/Soul  \n1  Alternative/Indie  \n2        Hip-Hop/Rap  \n3   Dance/Electronic  \n4           Nu-disco  ",
      "text/html": "<div>\n<style scoped>\n    .dataframe tbody tr th:only-of-type {\n        vertical-align: middle;\n    }\n\n    .dataframe tbody tr th {\n        vertical-align: top;\n    }\n\n    .dataframe thead th {\n        text-align: right;\n    }\n</style>\n<table border=\"1\" class=\"dataframe\">\n  <thead>\n    <tr style=\"text-align: right;\">\n      <th></th>\n      <th>artist</th>\n      <th>album</th>\n      <th>track_name</th>\n      <th>track_id</th>\n      <th>energy</th>\n      <th>danceability</th>\n      <th>key</th>\n      <th>loudness</th>\n      <th>acousticness</th>\n      <th>speechiness</th>\n      <th>instrumentalness</th>\n      <th>liveness</th>\n      <th>valence</th>\n      <th>tempo</th>\n      <th>duration_ms</th>\n      <th>genre</th>\n    </tr>\n  </thead>\n  <tbody>\n    <tr>\n      <th>0</th>\n      <td>The Weeknd</td>\n      <td>After Hours</td>\n      <td>Blinding Lights</td>\n      <td>0VjIjW4GlUZAMYd2vXMi3b</td>\n      <td>0.730</td>\n      <td>0.514</td>\n      <td>1</td>\n      <td>-5.934</td>\n      <td>0.00146</td>\n      <td>0.0598</td>\n      <td>0.000095</td>\n      <td>0.0897</td>\n      <td>0.334</td>\n      <td>171.005</td>\n      <td>200040</td>\n      <td>R&amp;B/Soul</td>\n    </tr>\n    <tr>\n      <th>1</th>\n      <td>Tones And I</td>\n      <td>Dance Monkey</td>\n      <td>Dance Monkey</td>\n      <td>1rgnBhdG2JDFTbYkYRZAku</td>\n      <td>0.593</td>\n      <td>0.825</td>\n      <td>6</td>\n      <td>-6.401</td>\n      <td>0.68800</td>\n      <td>0.0988</td>\n      <td>0.000161</td>\n      <td>0.1700</td>\n      <td>0.540</td>\n      <td>98.078</td>\n      <td>209755</td>\n      <td>Alternative/Indie</td>\n    </tr>\n    <tr>\n      <th>2</th>\n      <td>Roddy Ricch</td>\n      <td>Please Excuse Me For Being Antisocial</td>\n      <td>The Box</td>\n      <td>0nbXyq5TXYPCO7pr3N8S4I</td>\n      <td>0.586</td>\n      <td>0.896</td>\n      <td>10</td>\n      <td>-6.687</td>\n      <td>0.10400</td>\n      <td>0.0559</td>\n      <td>0.000000</td>\n      <td>0.7900</td>\n      <td>0.642</td>\n      <td>116.971</td>\n      <td>196653</td>\n      <td>Hip-Hop/Rap</td>\n    </tr>\n    <tr>\n      <th>3</th>\n      <td>SAINt JHN</td>\n      <td>Roses (Imanbek Remix)</td>\n      <td>Roses - Imanbek Remix</td>\n      <td>2Wo6QQD1KMDWeFkkjLqwx5</td>\n      <td>0.721</td>\n      <td>0.785</td>\n      <td>8</td>\n      <td>-5.457</td>\n      <td>0.01490</td>\n      <td>0.0506</td>\n      <td>0.004320</td>\n      <td>0.2850</td>\n      <td>0.894</td>\n      <td>121.962</td>\n      <td>176219</td>\n      <td>Dance/Electronic</td>\n    </tr>\n    <tr>\n      <th>4</th>\n      <td>Dua Lipa</td>\n      <td>Future Nostalgia</td>\n      <td>Don't Start Now</td>\n      <td>3PfIrDoz19wz7qK7tYeu62</td>\n      <td>0.793</td>\n      <td>0.793</td>\n      <td>11</td>\n      <td>-4.521</td>\n      <td>0.01230</td>\n      <td>0.0830</td>\n      <td>0.000000</td>\n      <td>0.0951</td>\n      <td>0.679</td>\n      <td>123.950</td>\n      <td>183290</td>\n      <td>Nu-disco</td>\n    </tr>\n  </tbody>\n</table>\n</div>"
     },
     "execution_count": 47,
     "metadata": {},
     "output_type": "execute_result"
    }
   ],
   "source": [
    "df.head()"
   ],
   "metadata": {
    "collapsed": false,
    "pycharm": {
     "name": "#%%\n"
    }
   }
  },
  {
   "cell_type": "markdown",
   "source": [
    "Checking if track_name and track_id has duplicates."
   ],
   "metadata": {
    "collapsed": false
   }
  },
  {
   "cell_type": "code",
   "execution_count": 48,
   "outputs": [
    {
     "data": {
      "text/plain": "             artist                                              album  \\\n0        The Weeknd                                        After Hours   \n1       Tones And I                                       Dance Monkey   \n2       Roddy Ricch              Please Excuse Me For Being Antisocial   \n3         SAINt JHN                              Roses (Imanbek Remix)   \n4          Dua Lipa                                   Future Nostalgia   \n5            DaBaby                                   BLAME IT ON BABY   \n6      Harry Styles                                          Fine Line   \n7             Powfu                   death bed (coffee for your head)   \n8     Trevor Daniel                                           Nicotine   \n9     Lewis Capaldi            Divinely Uninspired To A Hellish Extent   \n10          KAROL G                                               Tusa   \n11   Arizona Zervas                                            ROXANNE   \n12      Post Malone                               Hollywood's Bleeding   \n13        Lil Mosey                                 Certified Hitmaker   \n14    Justin Bieber                                            Changes   \n15            Drake                               Dark Lane Demo Tapes   \n16    Lewis Capaldi  Divinely Uninspired To A Hellish Extent (Exten...   \n17         Doja Cat                                           Hot Pink   \n18         Maroon 5                                           Memories   \n19           Future                                      High Off Life   \n20        Jawsh 685                   Savage Love (Laxed - Siren Beat)   \n21     Harry Styles                                          Fine Line   \n22            Topic                                        Breaking Me   \n23         24kGoldn                             Mood (feat. iann dior)   \n24    Billie Eilish                                everything i wanted   \n25     Shawn Mendes                              Shawn Mendes (Deluxe)   \n26    Billie Eilish           WHEN WE ALL FALL ASLEEP, WHERE DO WE GO?   \n27          Cardi B                    WAP (feat. Megan Thee Stallion)   \n28         Surfaces                                 Where the Light Is   \n29           Eminem                            Music To Be Murdered By   \n30    Justin Bieber                                            Changes   \n31         Dua Lipa                                   Future Nostalgia   \n32              BTS                         Dynamite (DayTime Version)   \n33            BENEE                                            Hey u x   \n34        Surf Mesa               ily (i love you baby) (feat. Emilee)   \n35        Lady Gaga                                         Chromatica   \n36     Travis Scott                                HIGHEST IN THE ROOM   \n37      Post Malone                               Hollywood's Bleeding   \n38           Maluma                                       PAPI JUANCHO   \n39           Regard                                            Ride It   \n40     Travis Scott                    Birds In The Trap Sing McKnight   \n41  Black Eyed Peas                                        Translation   \n42       THE SCOTTS                                         THE SCOTTS   \n43        Bad Bunny                                           YHLQMDLG   \n44    Billie Eilish                               lovely (with Khalid)   \n45       Juice WRLD                            Goodbye & Good Riddance   \n46    Ariana Grande                                       Stuck with U   \n47          JP Saxe     If the World Was Ending (feat. Julia Michaels)   \n48         Dua Lipa                                   Future Nostalgia   \n49     Travis Scott                                         ASTROWORLD   \n\n                                        track_name                track_id  \\\n0                                  Blinding Lights  0VjIjW4GlUZAMYd2vXMi3b   \n1                                     Dance Monkey  1rgnBhdG2JDFTbYkYRZAku   \n2                                          The Box  0nbXyq5TXYPCO7pr3N8S4I   \n3                            Roses - Imanbek Remix  2Wo6QQD1KMDWeFkkjLqwx5   \n4                                  Don't Start Now  3PfIrDoz19wz7qK7tYeu62   \n5                     ROCKSTAR (feat. Roddy Ricch)  7ytR5pFWmSjzHJIeQkgog4   \n6                                 Watermelon Sugar  6UelLqGlWMcVH1E5c4H7lY   \n7                 death bed (coffee for your head)  7eJMfftS33KTjuF7lTsMCx   \n8                                          Falling  2rRJrJEo19S2J82BDsQ3F7   \n9                                Someone You Loved  7qEHsqek33rTcFNT9PFqLf   \n10                                            Tusa  7k4t7uLgtOxPwTpFmtJNTY   \n11                                         ROXANNE  696DnlkuDOXcMAnKlTgXXK   \n12                                         Circles  21jGcNKet2qwijlDFuPiPb   \n13                                 Blueberry Faygo  22LAwLoDA5b4AaGSkg6bKW   \n14                        Intentions (feat. Quavo)  4umIPjkehX1r7uhmGvXiSV   \n15                                    Toosie Slide  466cKvZn1j45IpxDdYZqdA   \n16                                   Before You Go  2gMXnyrvIjhVBUZwvLZDMP   \n17                                          Say So  3Dv1eDb0MEgF93GpLXlucZ   \n18                                        Memories  2b8fOow8UzyDFAE27YhOZM   \n19                      Life Is Good (feat. Drake)  1K5KBOgreBi5fkEHvg5ap3   \n20                Savage Love (Laxed - Siren Beat)  1xQ6trAsedVPCdbtDAmk0c   \n21                                       Adore You  3jjujdWJ72nww5eGnfs2E7   \n22                                     Breaking Me  3H7ihDc1dqLriiWXwsc2po   \n23                          Mood (feat. iann dior)  3tjFYV6RSFtuktYl3ZtYcq   \n24                             everything i wanted  3ZCTVFBt2Brf31RLEnCkWJ   \n25                                        Señorita  6v3KW9xbzN5yKLt9YKDYA2   \n26                                         bad guy  2Fxmhks0bxGSBdJ92vM42m   \n27                 WAP (feat. Megan Thee Stallion)  4Oun2ylbjFKMPTiaSbbCih   \n28                                     Sunday Best  1Cv1YLb4q0RzL6pybtaMLo   \n29                     Godzilla (feat. Juice WRLD)  7FIWs0pqAYbP91WWM0vlTQ   \n30                                           Yummy  16wAOAZ2OkqoIDN7TpChjR   \n31                                  Break My Heart  017PF4Q3l4DBUiWoXk4OWT   \n32                                        Dynamite  0t1kP63rueHleOhQkYSXFY   \n33                Supalonely (feat. Gus Dapperton)  3GZoWLVbmxcBys6g0DLFLf   \n34            ily (i love you baby) (feat. Emilee)  62aP9fBQKYKxi7PDXwcUAS   \n35                 Rain On Me (with Ariana Grande)  7ju97lgwC2rKQ6wwsf9no9   \n36                             HIGHEST IN THE ROOM  3eekarcy7kvN4yt5ZFzltW   \n37   Sunflower - Spider-Man: Into the Spider-Verse  0RiRZpuVRbi7oqRdSMwhQY   \n38                                           Hawái  1yoMvmasuxZfqHEipJhRbp   \n39                                         Ride It  2tnVG71enUj33Ic2nFN6kZ   \n40                                      goosebumps  6gBFPUFcJLzWGx4lenP6h2   \n41                       RITMO (Bad Boys For Life)  4NCsrTzgVfsDo8nWyP8PPc   \n42                                      THE SCOTTS  39Yp9wwQiSRIDOvrVg7mbk   \n43                                         Safaera  2DEZmgHKAvm41k4J3R2E9Y   \n44                            lovely (with Khalid)  0u2P5u6lvoDfwTYjAADbn4   \n45                                    Lucid Dreams  285pBltuF7vW8TeWk8hdRR   \n46               Stuck with U (with Justin Bieber)  4HBZA5flZLE435QTztThqH   \n47  If the World Was Ending - feat. Julia Michaels  2kJwzbxV2ppxnQoYw4GLBZ   \n48                                        Physical  3AzjcOeAmA57TIOr9zF1ZW   \n49                                      SICKO MODE  2xLMifQCjDGFmkHkpNLD9h   \n\n    energy  danceability  key  loudness  acousticness  speechiness  \\\n0    0.730         0.514    1    -5.934       0.00146       0.0598   \n1    0.593         0.825    6    -6.401       0.68800       0.0988   \n2    0.586         0.896   10    -6.687       0.10400       0.0559   \n3    0.721         0.785    8    -5.457       0.01490       0.0506   \n4    0.793         0.793   11    -4.521       0.01230       0.0830   \n5    0.690         0.746   11    -7.956       0.24700       0.1640   \n6    0.816         0.548    0    -4.209       0.12200       0.0465   \n7    0.431         0.726    8    -8.765       0.73100       0.1350   \n8    0.430         0.784   10    -8.756       0.12300       0.0364   \n9    0.405         0.501    1    -5.679       0.75100       0.0319   \n10   0.715         0.803    2    -3.280       0.29500       0.2980   \n11   0.601         0.621    6    -5.616       0.05220       0.1480   \n12   0.762         0.695    0    -3.497       0.19200       0.0395   \n13   0.554         0.774    0    -7.909       0.20700       0.0383   \n14   0.546         0.806    9    -6.637       0.30000       0.0575   \n15   0.490         0.830    1    -8.820       0.28900       0.2090   \n16   0.575         0.459    3    -4.858       0.60400       0.0573   \n17   0.673         0.787   11    -4.577       0.25600       0.1580   \n18   0.320         0.764   11    -7.209       0.83700       0.0546   \n19   0.574         0.795    2    -6.903       0.06700       0.4870   \n20   0.481         0.767    0    -8.520       0.23400       0.0803   \n21   0.771         0.676    8    -3.675       0.02370       0.0483   \n22   0.720         0.789    8    -5.652       0.22300       0.2180   \n23   0.722         0.700    7    -3.558       0.22100       0.0369   \n24   0.225         0.704    6   -14.454       0.90200       0.0994   \n25   0.548         0.759    9    -6.049       0.03920       0.0290   \n26   0.425         0.701    7   -10.965       0.32800       0.3750   \n27   0.454         0.935    1    -7.509       0.01940       0.3750   \n28   0.525         0.878    5    -6.832       0.18300       0.0578   \n29   0.745         0.808   10    -5.260       0.14500       0.3420   \n30   0.506         0.676    9    -6.652       0.34500       0.0958   \n31   0.729         0.730    4    -3.434       0.16700       0.0883   \n32   0.765         0.746    6    -4.410       0.01120       0.0993   \n33   0.631         0.862    7    -4.746       0.29100       0.0515   \n34   0.774         0.674   11    -7.567       0.06860       0.0892   \n35   0.855         0.672    9    -3.764       0.02100       0.0397   \n36   0.427         0.598    7    -8.764       0.05460       0.0317   \n37   0.522         0.755    2    -4.368       0.53300       0.0575   \n38   0.727         0.783    6    -3.454       0.18500       0.3890   \n39   0.751         0.880    7    -4.258       0.17700       0.0874   \n40   0.728         0.841    7    -3.370       0.08470       0.0484   \n41   0.704         0.723   10    -7.088       0.02590       0.0571   \n42   0.537         0.716    0    -7.648       0.23300       0.0514   \n43   0.829         0.607    2    -4.074       0.01030       0.3790   \n44   0.296         0.351    4   -10.109       0.93400       0.0333   \n45   0.566         0.511    6    -7.230       0.34900       0.2000   \n46   0.450         0.597    8    -6.658       0.22300       0.0418   \n47   0.473         0.464    1   -10.086       0.86600       0.1290   \n48   0.844         0.647    0    -3.756       0.01370       0.0457   \n49   0.730         0.834    8    -3.714       0.00513       0.2220   \n\n    instrumentalness  liveness  valence    tempo  duration_ms  \\\n0           0.000095    0.0897   0.3340  171.005       200040   \n1           0.000161    0.1700   0.5400   98.078       209755   \n2           0.000000    0.7900   0.6420  116.971       196653   \n3           0.004320    0.2850   0.8940  121.962       176219   \n4           0.000000    0.0951   0.6790  123.950       183290   \n5           0.000000    0.1010   0.4970   89.977       181733   \n6           0.000000    0.3350   0.5570   95.390       174000   \n7           0.000000    0.6960   0.3480  144.026       173333   \n8           0.000000    0.0887   0.2360  127.087       159382   \n9           0.000000    0.1050   0.4460  109.891       182161   \n10          0.000134    0.0574   0.5740  101.085       200960   \n11          0.000000    0.4600   0.4570  116.735       163636   \n12          0.002440    0.0863   0.5530  120.042       215280   \n13          0.000000    0.1320   0.3490   99.034       162547   \n14          0.000000    0.1020   0.8740  147.986       212867   \n15          0.000003    0.1130   0.8450   81.604       247059   \n16          0.000000    0.0885   0.1830  111.881       215107   \n17          0.000004    0.0904   0.7860  110.962       237893   \n18          0.000000    0.0822   0.5750   91.019       189486   \n19          0.000000    0.1500   0.5370  142.053       237918   \n20          0.000000    0.2690   0.7610  150.076       171375   \n21          0.000007    0.1020   0.5690   99.048       207133   \n22          0.000000    0.1290   0.6640  122.031       166794   \n23          0.000000    0.2720   0.7560   90.989       140526   \n24          0.657000    0.1060   0.2430  120.006       245426   \n25          0.000000    0.0828   0.7490  116.967       190800   \n26          0.130000    0.1000   0.5620  135.128       194088   \n27          0.000000    0.0824   0.3570  133.073       187541   \n28          0.000000    0.0714   0.6940  112.022       158571   \n29          0.000000    0.2920   0.8290  165.995       210800   \n30          0.000000    0.1180   0.4970  145.842       208520   \n31          0.000001    0.3490   0.4670  113.013       221820   \n32          0.000000    0.0936   0.7370  114.044       199054   \n33          0.000209    0.1230   0.8410  128.978       223488   \n34          0.001880    0.3930   0.3300  112.050       176547   \n35          0.000000    0.3230   0.6460  123.056       182200   \n36          0.000006    0.2100   0.0605   76.469       175721   \n37          0.000000    0.0685   0.9250   89.960       157560   \n38          0.000025    0.0626   0.5580  180.067       199112   \n39          0.000064    0.1060   0.8840  117.948       157606   \n40          0.000000    0.1490   0.4300  130.049       243837   \n41          0.001090    0.7920   0.6840  105.095       214935   \n42          0.000000    0.1570   0.2800  129.979       165978   \n43          0.000000    0.1070   0.6850   96.172       295177   \n44          0.000000    0.0950   0.1200  115.284       200186   \n45          0.000000    0.3400   0.2180   83.903       239836   \n46          0.000000    0.3820   0.5370  178.765       228482   \n47          0.000000    0.1090   0.6040   75.801       208687   \n48          0.000658    0.1020   0.7460  146.967       193829   \n49          0.000000    0.1240   0.4460  155.008       312820   \n\n                                 genre  \n0                             R&B/Soul  \n1                    Alternative/Indie  \n2                          Hip-Hop/Rap  \n3                     Dance/Electronic  \n4                             Nu-disco  \n5                          Hip-Hop/Rap  \n6                                  Pop  \n7                          Hip-Hop/Rap  \n8              R&B/Hip-Hop alternative  \n9                    Alternative/Indie  \n10                                 Pop  \n11                         Hip-Hop/Rap  \n12                       Pop/Soft Rock  \n13                         Hip-Hop/Rap  \n14                                 Pop  \n15                         Hip-Hop/Rap  \n16                   Alternative/Indie  \n17                            R&B/Soul  \n18                                 Pop  \n19                         Hip-Hop/Rap  \n20                         Hip-Hop/Rap  \n21                                 Pop  \n22                    Dance/Electronic  \n23                             Pop rap  \n24                                 Pop  \n25                                 Pop  \n26                         Electro-pop  \n27                        Hip-Hop/Trap  \n28                         Electro-pop  \n29                         Hip-Hop/Rap  \n30                                 Pop  \n31                     Dance-pop/Disco  \n32                           Disco-pop  \n33                   Alternative/Indie  \n34                    Dance/Electronic  \n35                                 Pop  \n36                         Hip-Hop/Rap  \n37                Dreampop/Hip-Hop/R&B  \n38                                 Pop  \n39                    Dance/Electronic  \n40                         Hip-Hop/Rap  \n41                                 Pop  \n42                         Hip-Hop/Rap  \n43  Alternative/reggaeton/experimental  \n44                         Chamber pop  \n45                                 Pop  \n46                                 Pop  \n47                                 Pop  \n48                    Dance/Electronic  \n49                         Hip-Hop/Rap  ",
      "text/html": "<div>\n<style scoped>\n    .dataframe tbody tr th:only-of-type {\n        vertical-align: middle;\n    }\n\n    .dataframe tbody tr th {\n        vertical-align: top;\n    }\n\n    .dataframe thead th {\n        text-align: right;\n    }\n</style>\n<table border=\"1\" class=\"dataframe\">\n  <thead>\n    <tr style=\"text-align: right;\">\n      <th></th>\n      <th>artist</th>\n      <th>album</th>\n      <th>track_name</th>\n      <th>track_id</th>\n      <th>energy</th>\n      <th>danceability</th>\n      <th>key</th>\n      <th>loudness</th>\n      <th>acousticness</th>\n      <th>speechiness</th>\n      <th>instrumentalness</th>\n      <th>liveness</th>\n      <th>valence</th>\n      <th>tempo</th>\n      <th>duration_ms</th>\n      <th>genre</th>\n    </tr>\n  </thead>\n  <tbody>\n    <tr>\n      <th>0</th>\n      <td>The Weeknd</td>\n      <td>After Hours</td>\n      <td>Blinding Lights</td>\n      <td>0VjIjW4GlUZAMYd2vXMi3b</td>\n      <td>0.730</td>\n      <td>0.514</td>\n      <td>1</td>\n      <td>-5.934</td>\n      <td>0.00146</td>\n      <td>0.0598</td>\n      <td>0.000095</td>\n      <td>0.0897</td>\n      <td>0.3340</td>\n      <td>171.005</td>\n      <td>200040</td>\n      <td>R&amp;B/Soul</td>\n    </tr>\n    <tr>\n      <th>1</th>\n      <td>Tones And I</td>\n      <td>Dance Monkey</td>\n      <td>Dance Monkey</td>\n      <td>1rgnBhdG2JDFTbYkYRZAku</td>\n      <td>0.593</td>\n      <td>0.825</td>\n      <td>6</td>\n      <td>-6.401</td>\n      <td>0.68800</td>\n      <td>0.0988</td>\n      <td>0.000161</td>\n      <td>0.1700</td>\n      <td>0.5400</td>\n      <td>98.078</td>\n      <td>209755</td>\n      <td>Alternative/Indie</td>\n    </tr>\n    <tr>\n      <th>2</th>\n      <td>Roddy Ricch</td>\n      <td>Please Excuse Me For Being Antisocial</td>\n      <td>The Box</td>\n      <td>0nbXyq5TXYPCO7pr3N8S4I</td>\n      <td>0.586</td>\n      <td>0.896</td>\n      <td>10</td>\n      <td>-6.687</td>\n      <td>0.10400</td>\n      <td>0.0559</td>\n      <td>0.000000</td>\n      <td>0.7900</td>\n      <td>0.6420</td>\n      <td>116.971</td>\n      <td>196653</td>\n      <td>Hip-Hop/Rap</td>\n    </tr>\n    <tr>\n      <th>3</th>\n      <td>SAINt JHN</td>\n      <td>Roses (Imanbek Remix)</td>\n      <td>Roses - Imanbek Remix</td>\n      <td>2Wo6QQD1KMDWeFkkjLqwx5</td>\n      <td>0.721</td>\n      <td>0.785</td>\n      <td>8</td>\n      <td>-5.457</td>\n      <td>0.01490</td>\n      <td>0.0506</td>\n      <td>0.004320</td>\n      <td>0.2850</td>\n      <td>0.8940</td>\n      <td>121.962</td>\n      <td>176219</td>\n      <td>Dance/Electronic</td>\n    </tr>\n    <tr>\n      <th>4</th>\n      <td>Dua Lipa</td>\n      <td>Future Nostalgia</td>\n      <td>Don't Start Now</td>\n      <td>3PfIrDoz19wz7qK7tYeu62</td>\n      <td>0.793</td>\n      <td>0.793</td>\n      <td>11</td>\n      <td>-4.521</td>\n      <td>0.01230</td>\n      <td>0.0830</td>\n      <td>0.000000</td>\n      <td>0.0951</td>\n      <td>0.6790</td>\n      <td>123.950</td>\n      <td>183290</td>\n      <td>Nu-disco</td>\n    </tr>\n    <tr>\n      <th>5</th>\n      <td>DaBaby</td>\n      <td>BLAME IT ON BABY</td>\n      <td>ROCKSTAR (feat. Roddy Ricch)</td>\n      <td>7ytR5pFWmSjzHJIeQkgog4</td>\n      <td>0.690</td>\n      <td>0.746</td>\n      <td>11</td>\n      <td>-7.956</td>\n      <td>0.24700</td>\n      <td>0.1640</td>\n      <td>0.000000</td>\n      <td>0.1010</td>\n      <td>0.4970</td>\n      <td>89.977</td>\n      <td>181733</td>\n      <td>Hip-Hop/Rap</td>\n    </tr>\n    <tr>\n      <th>6</th>\n      <td>Harry Styles</td>\n      <td>Fine Line</td>\n      <td>Watermelon Sugar</td>\n      <td>6UelLqGlWMcVH1E5c4H7lY</td>\n      <td>0.816</td>\n      <td>0.548</td>\n      <td>0</td>\n      <td>-4.209</td>\n      <td>0.12200</td>\n      <td>0.0465</td>\n      <td>0.000000</td>\n      <td>0.3350</td>\n      <td>0.5570</td>\n      <td>95.390</td>\n      <td>174000</td>\n      <td>Pop</td>\n    </tr>\n    <tr>\n      <th>7</th>\n      <td>Powfu</td>\n      <td>death bed (coffee for your head)</td>\n      <td>death bed (coffee for your head)</td>\n      <td>7eJMfftS33KTjuF7lTsMCx</td>\n      <td>0.431</td>\n      <td>0.726</td>\n      <td>8</td>\n      <td>-8.765</td>\n      <td>0.73100</td>\n      <td>0.1350</td>\n      <td>0.000000</td>\n      <td>0.6960</td>\n      <td>0.3480</td>\n      <td>144.026</td>\n      <td>173333</td>\n      <td>Hip-Hop/Rap</td>\n    </tr>\n    <tr>\n      <th>8</th>\n      <td>Trevor Daniel</td>\n      <td>Nicotine</td>\n      <td>Falling</td>\n      <td>2rRJrJEo19S2J82BDsQ3F7</td>\n      <td>0.430</td>\n      <td>0.784</td>\n      <td>10</td>\n      <td>-8.756</td>\n      <td>0.12300</td>\n      <td>0.0364</td>\n      <td>0.000000</td>\n      <td>0.0887</td>\n      <td>0.2360</td>\n      <td>127.087</td>\n      <td>159382</td>\n      <td>R&amp;B/Hip-Hop alternative</td>\n    </tr>\n    <tr>\n      <th>9</th>\n      <td>Lewis Capaldi</td>\n      <td>Divinely Uninspired To A Hellish Extent</td>\n      <td>Someone You Loved</td>\n      <td>7qEHsqek33rTcFNT9PFqLf</td>\n      <td>0.405</td>\n      <td>0.501</td>\n      <td>1</td>\n      <td>-5.679</td>\n      <td>0.75100</td>\n      <td>0.0319</td>\n      <td>0.000000</td>\n      <td>0.1050</td>\n      <td>0.4460</td>\n      <td>109.891</td>\n      <td>182161</td>\n      <td>Alternative/Indie</td>\n    </tr>\n    <tr>\n      <th>10</th>\n      <td>KAROL G</td>\n      <td>Tusa</td>\n      <td>Tusa</td>\n      <td>7k4t7uLgtOxPwTpFmtJNTY</td>\n      <td>0.715</td>\n      <td>0.803</td>\n      <td>2</td>\n      <td>-3.280</td>\n      <td>0.29500</td>\n      <td>0.2980</td>\n      <td>0.000134</td>\n      <td>0.0574</td>\n      <td>0.5740</td>\n      <td>101.085</td>\n      <td>200960</td>\n      <td>Pop</td>\n    </tr>\n    <tr>\n      <th>11</th>\n      <td>Arizona Zervas</td>\n      <td>ROXANNE</td>\n      <td>ROXANNE</td>\n      <td>696DnlkuDOXcMAnKlTgXXK</td>\n      <td>0.601</td>\n      <td>0.621</td>\n      <td>6</td>\n      <td>-5.616</td>\n      <td>0.05220</td>\n      <td>0.1480</td>\n      <td>0.000000</td>\n      <td>0.4600</td>\n      <td>0.4570</td>\n      <td>116.735</td>\n      <td>163636</td>\n      <td>Hip-Hop/Rap</td>\n    </tr>\n    <tr>\n      <th>12</th>\n      <td>Post Malone</td>\n      <td>Hollywood's Bleeding</td>\n      <td>Circles</td>\n      <td>21jGcNKet2qwijlDFuPiPb</td>\n      <td>0.762</td>\n      <td>0.695</td>\n      <td>0</td>\n      <td>-3.497</td>\n      <td>0.19200</td>\n      <td>0.0395</td>\n      <td>0.002440</td>\n      <td>0.0863</td>\n      <td>0.5530</td>\n      <td>120.042</td>\n      <td>215280</td>\n      <td>Pop/Soft Rock</td>\n    </tr>\n    <tr>\n      <th>13</th>\n      <td>Lil Mosey</td>\n      <td>Certified Hitmaker</td>\n      <td>Blueberry Faygo</td>\n      <td>22LAwLoDA5b4AaGSkg6bKW</td>\n      <td>0.554</td>\n      <td>0.774</td>\n      <td>0</td>\n      <td>-7.909</td>\n      <td>0.20700</td>\n      <td>0.0383</td>\n      <td>0.000000</td>\n      <td>0.1320</td>\n      <td>0.3490</td>\n      <td>99.034</td>\n      <td>162547</td>\n      <td>Hip-Hop/Rap</td>\n    </tr>\n    <tr>\n      <th>14</th>\n      <td>Justin Bieber</td>\n      <td>Changes</td>\n      <td>Intentions (feat. Quavo)</td>\n      <td>4umIPjkehX1r7uhmGvXiSV</td>\n      <td>0.546</td>\n      <td>0.806</td>\n      <td>9</td>\n      <td>-6.637</td>\n      <td>0.30000</td>\n      <td>0.0575</td>\n      <td>0.000000</td>\n      <td>0.1020</td>\n      <td>0.8740</td>\n      <td>147.986</td>\n      <td>212867</td>\n      <td>Pop</td>\n    </tr>\n    <tr>\n      <th>15</th>\n      <td>Drake</td>\n      <td>Dark Lane Demo Tapes</td>\n      <td>Toosie Slide</td>\n      <td>466cKvZn1j45IpxDdYZqdA</td>\n      <td>0.490</td>\n      <td>0.830</td>\n      <td>1</td>\n      <td>-8.820</td>\n      <td>0.28900</td>\n      <td>0.2090</td>\n      <td>0.000003</td>\n      <td>0.1130</td>\n      <td>0.8450</td>\n      <td>81.604</td>\n      <td>247059</td>\n      <td>Hip-Hop/Rap</td>\n    </tr>\n    <tr>\n      <th>16</th>\n      <td>Lewis Capaldi</td>\n      <td>Divinely Uninspired To A Hellish Extent (Exten...</td>\n      <td>Before You Go</td>\n      <td>2gMXnyrvIjhVBUZwvLZDMP</td>\n      <td>0.575</td>\n      <td>0.459</td>\n      <td>3</td>\n      <td>-4.858</td>\n      <td>0.60400</td>\n      <td>0.0573</td>\n      <td>0.000000</td>\n      <td>0.0885</td>\n      <td>0.1830</td>\n      <td>111.881</td>\n      <td>215107</td>\n      <td>Alternative/Indie</td>\n    </tr>\n    <tr>\n      <th>17</th>\n      <td>Doja Cat</td>\n      <td>Hot Pink</td>\n      <td>Say So</td>\n      <td>3Dv1eDb0MEgF93GpLXlucZ</td>\n      <td>0.673</td>\n      <td>0.787</td>\n      <td>11</td>\n      <td>-4.577</td>\n      <td>0.25600</td>\n      <td>0.1580</td>\n      <td>0.000004</td>\n      <td>0.0904</td>\n      <td>0.7860</td>\n      <td>110.962</td>\n      <td>237893</td>\n      <td>R&amp;B/Soul</td>\n    </tr>\n    <tr>\n      <th>18</th>\n      <td>Maroon 5</td>\n      <td>Memories</td>\n      <td>Memories</td>\n      <td>2b8fOow8UzyDFAE27YhOZM</td>\n      <td>0.320</td>\n      <td>0.764</td>\n      <td>11</td>\n      <td>-7.209</td>\n      <td>0.83700</td>\n      <td>0.0546</td>\n      <td>0.000000</td>\n      <td>0.0822</td>\n      <td>0.5750</td>\n      <td>91.019</td>\n      <td>189486</td>\n      <td>Pop</td>\n    </tr>\n    <tr>\n      <th>19</th>\n      <td>Future</td>\n      <td>High Off Life</td>\n      <td>Life Is Good (feat. Drake)</td>\n      <td>1K5KBOgreBi5fkEHvg5ap3</td>\n      <td>0.574</td>\n      <td>0.795</td>\n      <td>2</td>\n      <td>-6.903</td>\n      <td>0.06700</td>\n      <td>0.4870</td>\n      <td>0.000000</td>\n      <td>0.1500</td>\n      <td>0.5370</td>\n      <td>142.053</td>\n      <td>237918</td>\n      <td>Hip-Hop/Rap</td>\n    </tr>\n    <tr>\n      <th>20</th>\n      <td>Jawsh 685</td>\n      <td>Savage Love (Laxed - Siren Beat)</td>\n      <td>Savage Love (Laxed - Siren Beat)</td>\n      <td>1xQ6trAsedVPCdbtDAmk0c</td>\n      <td>0.481</td>\n      <td>0.767</td>\n      <td>0</td>\n      <td>-8.520</td>\n      <td>0.23400</td>\n      <td>0.0803</td>\n      <td>0.000000</td>\n      <td>0.2690</td>\n      <td>0.7610</td>\n      <td>150.076</td>\n      <td>171375</td>\n      <td>Hip-Hop/Rap</td>\n    </tr>\n    <tr>\n      <th>21</th>\n      <td>Harry Styles</td>\n      <td>Fine Line</td>\n      <td>Adore You</td>\n      <td>3jjujdWJ72nww5eGnfs2E7</td>\n      <td>0.771</td>\n      <td>0.676</td>\n      <td>8</td>\n      <td>-3.675</td>\n      <td>0.02370</td>\n      <td>0.0483</td>\n      <td>0.000007</td>\n      <td>0.1020</td>\n      <td>0.5690</td>\n      <td>99.048</td>\n      <td>207133</td>\n      <td>Pop</td>\n    </tr>\n    <tr>\n      <th>22</th>\n      <td>Topic</td>\n      <td>Breaking Me</td>\n      <td>Breaking Me</td>\n      <td>3H7ihDc1dqLriiWXwsc2po</td>\n      <td>0.720</td>\n      <td>0.789</td>\n      <td>8</td>\n      <td>-5.652</td>\n      <td>0.22300</td>\n      <td>0.2180</td>\n      <td>0.000000</td>\n      <td>0.1290</td>\n      <td>0.6640</td>\n      <td>122.031</td>\n      <td>166794</td>\n      <td>Dance/Electronic</td>\n    </tr>\n    <tr>\n      <th>23</th>\n      <td>24kGoldn</td>\n      <td>Mood (feat. iann dior)</td>\n      <td>Mood (feat. iann dior)</td>\n      <td>3tjFYV6RSFtuktYl3ZtYcq</td>\n      <td>0.722</td>\n      <td>0.700</td>\n      <td>7</td>\n      <td>-3.558</td>\n      <td>0.22100</td>\n      <td>0.0369</td>\n      <td>0.000000</td>\n      <td>0.2720</td>\n      <td>0.7560</td>\n      <td>90.989</td>\n      <td>140526</td>\n      <td>Pop rap</td>\n    </tr>\n    <tr>\n      <th>24</th>\n      <td>Billie Eilish</td>\n      <td>everything i wanted</td>\n      <td>everything i wanted</td>\n      <td>3ZCTVFBt2Brf31RLEnCkWJ</td>\n      <td>0.225</td>\n      <td>0.704</td>\n      <td>6</td>\n      <td>-14.454</td>\n      <td>0.90200</td>\n      <td>0.0994</td>\n      <td>0.657000</td>\n      <td>0.1060</td>\n      <td>0.2430</td>\n      <td>120.006</td>\n      <td>245426</td>\n      <td>Pop</td>\n    </tr>\n    <tr>\n      <th>25</th>\n      <td>Shawn Mendes</td>\n      <td>Shawn Mendes (Deluxe)</td>\n      <td>Señorita</td>\n      <td>6v3KW9xbzN5yKLt9YKDYA2</td>\n      <td>0.548</td>\n      <td>0.759</td>\n      <td>9</td>\n      <td>-6.049</td>\n      <td>0.03920</td>\n      <td>0.0290</td>\n      <td>0.000000</td>\n      <td>0.0828</td>\n      <td>0.7490</td>\n      <td>116.967</td>\n      <td>190800</td>\n      <td>Pop</td>\n    </tr>\n    <tr>\n      <th>26</th>\n      <td>Billie Eilish</td>\n      <td>WHEN WE ALL FALL ASLEEP, WHERE DO WE GO?</td>\n      <td>bad guy</td>\n      <td>2Fxmhks0bxGSBdJ92vM42m</td>\n      <td>0.425</td>\n      <td>0.701</td>\n      <td>7</td>\n      <td>-10.965</td>\n      <td>0.32800</td>\n      <td>0.3750</td>\n      <td>0.130000</td>\n      <td>0.1000</td>\n      <td>0.5620</td>\n      <td>135.128</td>\n      <td>194088</td>\n      <td>Electro-pop</td>\n    </tr>\n    <tr>\n      <th>27</th>\n      <td>Cardi B</td>\n      <td>WAP (feat. Megan Thee Stallion)</td>\n      <td>WAP (feat. Megan Thee Stallion)</td>\n      <td>4Oun2ylbjFKMPTiaSbbCih</td>\n      <td>0.454</td>\n      <td>0.935</td>\n      <td>1</td>\n      <td>-7.509</td>\n      <td>0.01940</td>\n      <td>0.3750</td>\n      <td>0.000000</td>\n      <td>0.0824</td>\n      <td>0.3570</td>\n      <td>133.073</td>\n      <td>187541</td>\n      <td>Hip-Hop/Trap</td>\n    </tr>\n    <tr>\n      <th>28</th>\n      <td>Surfaces</td>\n      <td>Where the Light Is</td>\n      <td>Sunday Best</td>\n      <td>1Cv1YLb4q0RzL6pybtaMLo</td>\n      <td>0.525</td>\n      <td>0.878</td>\n      <td>5</td>\n      <td>-6.832</td>\n      <td>0.18300</td>\n      <td>0.0578</td>\n      <td>0.000000</td>\n      <td>0.0714</td>\n      <td>0.6940</td>\n      <td>112.022</td>\n      <td>158571</td>\n      <td>Electro-pop</td>\n    </tr>\n    <tr>\n      <th>29</th>\n      <td>Eminem</td>\n      <td>Music To Be Murdered By</td>\n      <td>Godzilla (feat. Juice WRLD)</td>\n      <td>7FIWs0pqAYbP91WWM0vlTQ</td>\n      <td>0.745</td>\n      <td>0.808</td>\n      <td>10</td>\n      <td>-5.260</td>\n      <td>0.14500</td>\n      <td>0.3420</td>\n      <td>0.000000</td>\n      <td>0.2920</td>\n      <td>0.8290</td>\n      <td>165.995</td>\n      <td>210800</td>\n      <td>Hip-Hop/Rap</td>\n    </tr>\n    <tr>\n      <th>30</th>\n      <td>Justin Bieber</td>\n      <td>Changes</td>\n      <td>Yummy</td>\n      <td>16wAOAZ2OkqoIDN7TpChjR</td>\n      <td>0.506</td>\n      <td>0.676</td>\n      <td>9</td>\n      <td>-6.652</td>\n      <td>0.34500</td>\n      <td>0.0958</td>\n      <td>0.000000</td>\n      <td>0.1180</td>\n      <td>0.4970</td>\n      <td>145.842</td>\n      <td>208520</td>\n      <td>Pop</td>\n    </tr>\n    <tr>\n      <th>31</th>\n      <td>Dua Lipa</td>\n      <td>Future Nostalgia</td>\n      <td>Break My Heart</td>\n      <td>017PF4Q3l4DBUiWoXk4OWT</td>\n      <td>0.729</td>\n      <td>0.730</td>\n      <td>4</td>\n      <td>-3.434</td>\n      <td>0.16700</td>\n      <td>0.0883</td>\n      <td>0.000001</td>\n      <td>0.3490</td>\n      <td>0.4670</td>\n      <td>113.013</td>\n      <td>221820</td>\n      <td>Dance-pop/Disco</td>\n    </tr>\n    <tr>\n      <th>32</th>\n      <td>BTS</td>\n      <td>Dynamite (DayTime Version)</td>\n      <td>Dynamite</td>\n      <td>0t1kP63rueHleOhQkYSXFY</td>\n      <td>0.765</td>\n      <td>0.746</td>\n      <td>6</td>\n      <td>-4.410</td>\n      <td>0.01120</td>\n      <td>0.0993</td>\n      <td>0.000000</td>\n      <td>0.0936</td>\n      <td>0.7370</td>\n      <td>114.044</td>\n      <td>199054</td>\n      <td>Disco-pop</td>\n    </tr>\n    <tr>\n      <th>33</th>\n      <td>BENEE</td>\n      <td>Hey u x</td>\n      <td>Supalonely (feat. Gus Dapperton)</td>\n      <td>3GZoWLVbmxcBys6g0DLFLf</td>\n      <td>0.631</td>\n      <td>0.862</td>\n      <td>7</td>\n      <td>-4.746</td>\n      <td>0.29100</td>\n      <td>0.0515</td>\n      <td>0.000209</td>\n      <td>0.1230</td>\n      <td>0.8410</td>\n      <td>128.978</td>\n      <td>223488</td>\n      <td>Alternative/Indie</td>\n    </tr>\n    <tr>\n      <th>34</th>\n      <td>Surf Mesa</td>\n      <td>ily (i love you baby) (feat. Emilee)</td>\n      <td>ily (i love you baby) (feat. Emilee)</td>\n      <td>62aP9fBQKYKxi7PDXwcUAS</td>\n      <td>0.774</td>\n      <td>0.674</td>\n      <td>11</td>\n      <td>-7.567</td>\n      <td>0.06860</td>\n      <td>0.0892</td>\n      <td>0.001880</td>\n      <td>0.3930</td>\n      <td>0.3300</td>\n      <td>112.050</td>\n      <td>176547</td>\n      <td>Dance/Electronic</td>\n    </tr>\n    <tr>\n      <th>35</th>\n      <td>Lady Gaga</td>\n      <td>Chromatica</td>\n      <td>Rain On Me (with Ariana Grande)</td>\n      <td>7ju97lgwC2rKQ6wwsf9no9</td>\n      <td>0.855</td>\n      <td>0.672</td>\n      <td>9</td>\n      <td>-3.764</td>\n      <td>0.02100</td>\n      <td>0.0397</td>\n      <td>0.000000</td>\n      <td>0.3230</td>\n      <td>0.6460</td>\n      <td>123.056</td>\n      <td>182200</td>\n      <td>Pop</td>\n    </tr>\n    <tr>\n      <th>36</th>\n      <td>Travis Scott</td>\n      <td>HIGHEST IN THE ROOM</td>\n      <td>HIGHEST IN THE ROOM</td>\n      <td>3eekarcy7kvN4yt5ZFzltW</td>\n      <td>0.427</td>\n      <td>0.598</td>\n      <td>7</td>\n      <td>-8.764</td>\n      <td>0.05460</td>\n      <td>0.0317</td>\n      <td>0.000006</td>\n      <td>0.2100</td>\n      <td>0.0605</td>\n      <td>76.469</td>\n      <td>175721</td>\n      <td>Hip-Hop/Rap</td>\n    </tr>\n    <tr>\n      <th>37</th>\n      <td>Post Malone</td>\n      <td>Hollywood's Bleeding</td>\n      <td>Sunflower - Spider-Man: Into the Spider-Verse</td>\n      <td>0RiRZpuVRbi7oqRdSMwhQY</td>\n      <td>0.522</td>\n      <td>0.755</td>\n      <td>2</td>\n      <td>-4.368</td>\n      <td>0.53300</td>\n      <td>0.0575</td>\n      <td>0.000000</td>\n      <td>0.0685</td>\n      <td>0.9250</td>\n      <td>89.960</td>\n      <td>157560</td>\n      <td>Dreampop/Hip-Hop/R&amp;B</td>\n    </tr>\n    <tr>\n      <th>38</th>\n      <td>Maluma</td>\n      <td>PAPI JUANCHO</td>\n      <td>Hawái</td>\n      <td>1yoMvmasuxZfqHEipJhRbp</td>\n      <td>0.727</td>\n      <td>0.783</td>\n      <td>6</td>\n      <td>-3.454</td>\n      <td>0.18500</td>\n      <td>0.3890</td>\n      <td>0.000025</td>\n      <td>0.0626</td>\n      <td>0.5580</td>\n      <td>180.067</td>\n      <td>199112</td>\n      <td>Pop</td>\n    </tr>\n    <tr>\n      <th>39</th>\n      <td>Regard</td>\n      <td>Ride It</td>\n      <td>Ride It</td>\n      <td>2tnVG71enUj33Ic2nFN6kZ</td>\n      <td>0.751</td>\n      <td>0.880</td>\n      <td>7</td>\n      <td>-4.258</td>\n      <td>0.17700</td>\n      <td>0.0874</td>\n      <td>0.000064</td>\n      <td>0.1060</td>\n      <td>0.8840</td>\n      <td>117.948</td>\n      <td>157606</td>\n      <td>Dance/Electronic</td>\n    </tr>\n    <tr>\n      <th>40</th>\n      <td>Travis Scott</td>\n      <td>Birds In The Trap Sing McKnight</td>\n      <td>goosebumps</td>\n      <td>6gBFPUFcJLzWGx4lenP6h2</td>\n      <td>0.728</td>\n      <td>0.841</td>\n      <td>7</td>\n      <td>-3.370</td>\n      <td>0.08470</td>\n      <td>0.0484</td>\n      <td>0.000000</td>\n      <td>0.1490</td>\n      <td>0.4300</td>\n      <td>130.049</td>\n      <td>243837</td>\n      <td>Hip-Hop/Rap</td>\n    </tr>\n    <tr>\n      <th>41</th>\n      <td>Black Eyed Peas</td>\n      <td>Translation</td>\n      <td>RITMO (Bad Boys For Life)</td>\n      <td>4NCsrTzgVfsDo8nWyP8PPc</td>\n      <td>0.704</td>\n      <td>0.723</td>\n      <td>10</td>\n      <td>-7.088</td>\n      <td>0.02590</td>\n      <td>0.0571</td>\n      <td>0.001090</td>\n      <td>0.7920</td>\n      <td>0.6840</td>\n      <td>105.095</td>\n      <td>214935</td>\n      <td>Pop</td>\n    </tr>\n    <tr>\n      <th>42</th>\n      <td>THE SCOTTS</td>\n      <td>THE SCOTTS</td>\n      <td>THE SCOTTS</td>\n      <td>39Yp9wwQiSRIDOvrVg7mbk</td>\n      <td>0.537</td>\n      <td>0.716</td>\n      <td>0</td>\n      <td>-7.648</td>\n      <td>0.23300</td>\n      <td>0.0514</td>\n      <td>0.000000</td>\n      <td>0.1570</td>\n      <td>0.2800</td>\n      <td>129.979</td>\n      <td>165978</td>\n      <td>Hip-Hop/Rap</td>\n    </tr>\n    <tr>\n      <th>43</th>\n      <td>Bad Bunny</td>\n      <td>YHLQMDLG</td>\n      <td>Safaera</td>\n      <td>2DEZmgHKAvm41k4J3R2E9Y</td>\n      <td>0.829</td>\n      <td>0.607</td>\n      <td>2</td>\n      <td>-4.074</td>\n      <td>0.01030</td>\n      <td>0.3790</td>\n      <td>0.000000</td>\n      <td>0.1070</td>\n      <td>0.6850</td>\n      <td>96.172</td>\n      <td>295177</td>\n      <td>Alternative/reggaeton/experimental</td>\n    </tr>\n    <tr>\n      <th>44</th>\n      <td>Billie Eilish</td>\n      <td>lovely (with Khalid)</td>\n      <td>lovely (with Khalid)</td>\n      <td>0u2P5u6lvoDfwTYjAADbn4</td>\n      <td>0.296</td>\n      <td>0.351</td>\n      <td>4</td>\n      <td>-10.109</td>\n      <td>0.93400</td>\n      <td>0.0333</td>\n      <td>0.000000</td>\n      <td>0.0950</td>\n      <td>0.1200</td>\n      <td>115.284</td>\n      <td>200186</td>\n      <td>Chamber pop</td>\n    </tr>\n    <tr>\n      <th>45</th>\n      <td>Juice WRLD</td>\n      <td>Goodbye &amp; Good Riddance</td>\n      <td>Lucid Dreams</td>\n      <td>285pBltuF7vW8TeWk8hdRR</td>\n      <td>0.566</td>\n      <td>0.511</td>\n      <td>6</td>\n      <td>-7.230</td>\n      <td>0.34900</td>\n      <td>0.2000</td>\n      <td>0.000000</td>\n      <td>0.3400</td>\n      <td>0.2180</td>\n      <td>83.903</td>\n      <td>239836</td>\n      <td>Pop</td>\n    </tr>\n    <tr>\n      <th>46</th>\n      <td>Ariana Grande</td>\n      <td>Stuck with U</td>\n      <td>Stuck with U (with Justin Bieber)</td>\n      <td>4HBZA5flZLE435QTztThqH</td>\n      <td>0.450</td>\n      <td>0.597</td>\n      <td>8</td>\n      <td>-6.658</td>\n      <td>0.22300</td>\n      <td>0.0418</td>\n      <td>0.000000</td>\n      <td>0.3820</td>\n      <td>0.5370</td>\n      <td>178.765</td>\n      <td>228482</td>\n      <td>Pop</td>\n    </tr>\n    <tr>\n      <th>47</th>\n      <td>JP Saxe</td>\n      <td>If the World Was Ending (feat. Julia Michaels)</td>\n      <td>If the World Was Ending - feat. Julia Michaels</td>\n      <td>2kJwzbxV2ppxnQoYw4GLBZ</td>\n      <td>0.473</td>\n      <td>0.464</td>\n      <td>1</td>\n      <td>-10.086</td>\n      <td>0.86600</td>\n      <td>0.1290</td>\n      <td>0.000000</td>\n      <td>0.1090</td>\n      <td>0.6040</td>\n      <td>75.801</td>\n      <td>208687</td>\n      <td>Pop</td>\n    </tr>\n    <tr>\n      <th>48</th>\n      <td>Dua Lipa</td>\n      <td>Future Nostalgia</td>\n      <td>Physical</td>\n      <td>3AzjcOeAmA57TIOr9zF1ZW</td>\n      <td>0.844</td>\n      <td>0.647</td>\n      <td>0</td>\n      <td>-3.756</td>\n      <td>0.01370</td>\n      <td>0.0457</td>\n      <td>0.000658</td>\n      <td>0.1020</td>\n      <td>0.7460</td>\n      <td>146.967</td>\n      <td>193829</td>\n      <td>Dance/Electronic</td>\n    </tr>\n    <tr>\n      <th>49</th>\n      <td>Travis Scott</td>\n      <td>ASTROWORLD</td>\n      <td>SICKO MODE</td>\n      <td>2xLMifQCjDGFmkHkpNLD9h</td>\n      <td>0.730</td>\n      <td>0.834</td>\n      <td>8</td>\n      <td>-3.714</td>\n      <td>0.00513</td>\n      <td>0.2220</td>\n      <td>0.000000</td>\n      <td>0.1240</td>\n      <td>0.4460</td>\n      <td>155.008</td>\n      <td>312820</td>\n      <td>Hip-Hop/Rap</td>\n    </tr>\n  </tbody>\n</table>\n</div>"
     },
     "execution_count": 48,
     "metadata": {},
     "output_type": "execute_result"
    }
   ],
   "source": [
    "df.drop_duplicates([\"track_name\",\"track_id\"])"
   ],
   "metadata": {
    "collapsed": false,
    "pycharm": {
     "name": "#%%\n"
    }
   }
  },
  {
   "cell_type": "markdown",
   "source": [
    "## Counting empty values in dataset."
   ],
   "metadata": {
    "collapsed": false
   }
  },
  {
   "cell_type": "code",
   "execution_count": 49,
   "outputs": [
    {
     "data": {
      "text/plain": "artist              0\nalbum               0\ntrack_name          0\ntrack_id            0\nenergy              0\ndanceability        0\nkey                 0\nloudness            0\nacousticness        0\nspeechiness         0\ninstrumentalness    0\nliveness            0\nvalence             0\ntempo               0\nduration_ms         0\ngenre               0\ndtype: int64"
     },
     "execution_count": 49,
     "metadata": {},
     "output_type": "execute_result"
    }
   ],
   "source": [
    "df.isna().sum()"
   ],
   "metadata": {
    "collapsed": false,
    "pycharm": {
     "name": "#%%\n"
    }
   }
  },
  {
   "cell_type": "markdown",
   "source": [
    "## Checking for outliers"
   ],
   "metadata": {
    "collapsed": false
   }
  },
  {
   "cell_type": "code",
   "execution_count": 50,
   "outputs": [],
   "source": [
    "q1 = df.quantile(0.25)\n",
    "q3 = df.quantile(0.75)"
   ],
   "metadata": {
    "collapsed": false,
    "pycharm": {
     "name": "#%%\n"
    }
   }
  },
  {
   "cell_type": "code",
   "execution_count": 51,
   "outputs": [],
   "source": [
    "iqr =  q3 - q1\n",
    "lower_bound = q1 - (1.5 * iqr)\n",
    "upper_bound = q3 + (1.5 * iqr)"
   ],
   "metadata": {
    "collapsed": false,
    "pycharm": {
     "name": "#%%\n"
    }
   }
  },
  {
   "cell_type": "code",
   "execution_count": 52,
   "outputs": [
    {
     "data": {
      "text/plain": "energy                   0.140375\ndanceability             0.489500\nkey                     -8.125000\nloudness               -12.453000\nacousticness            -0.316125\nspeechiness             -0.112437\ninstrumentalness        -0.000030\nliveness                -0.172000\nvalence                 -0.004375\ntempo                   50.417625\nduration_ms         117017.750000\ndtype: float64"
     },
     "execution_count": 52,
     "metadata": {},
     "output_type": "execute_result"
    }
   ],
   "source": [
    "lower_bound"
   ],
   "metadata": {
    "collapsed": false,
    "pycharm": {
     "name": "#%%\n"
    }
   }
  },
  {
   "cell_type": "code",
   "execution_count": 53,
   "outputs": [
    {
     "data": {
      "text/plain": "energy                   1.083375\ndanceability             0.977500\nkey                     18.875000\nloudness                 0.615000\nacousticness             0.667675\nspeechiness              0.316263\ninstrumentalness         0.000051\nliveness                 0.537200\nvalence                  1.164625\ntempo                  181.456625\nduration_ms         273891.750000\ndtype: float64"
     },
     "execution_count": 53,
     "metadata": {},
     "output_type": "execute_result"
    }
   ],
   "source": [
    "upper_bound"
   ],
   "metadata": {
    "collapsed": false,
    "pycharm": {
     "name": "#%%\n"
    }
   }
  },
  {
   "cell_type": "code",
   "execution_count": 54,
   "outputs": [
    {
     "name": "stderr",
     "output_type": "stream",
     "text": [
      "<ipython-input-54-444752b8a822>:1: FutureWarning: Automatic reindexing on DataFrame vs Series comparisons is deprecated and will raise ValueError in a future version.  Do `left, right = left.align(right, axis=1, copy=False)` before e.g. `left == right`\n",
      "  (df < q1 - (1.5 * iqr)) | (df > q3 + (1.5 * iqr))\n",
      "<ipython-input-54-444752b8a822>:1: FutureWarning: Automatic reindexing on DataFrame vs Series comparisons is deprecated and will raise ValueError in a future version.  Do `left, right = left.align(right, axis=1, copy=False)` before e.g. `left == right`\n",
      "  (df < q1 - (1.5 * iqr)) | (df > q3 + (1.5 * iqr))\n"
     ]
    },
    {
     "data": {
      "text/plain": "    acousticness  album  artist  danceability  duration_ms  energy  genre  \\\n0          False  False   False         False        False   False  False   \n1           True  False   False         False        False   False  False   \n2          False  False   False         False        False   False  False   \n3          False  False   False         False        False   False  False   \n4          False  False   False         False        False   False  False   \n5          False  False   False         False        False   False  False   \n6          False  False   False         False        False   False  False   \n7           True  False   False         False        False   False  False   \n8          False  False   False         False        False   False  False   \n9           True  False   False         False        False   False  False   \n10         False  False   False         False        False   False  False   \n11         False  False   False         False        False   False  False   \n12         False  False   False         False        False   False  False   \n13         False  False   False         False        False   False  False   \n14         False  False   False         False        False   False  False   \n15         False  False   False         False        False   False  False   \n16         False  False   False          True        False   False  False   \n17         False  False   False         False        False   False  False   \n18          True  False   False         False        False   False  False   \n19         False  False   False         False        False   False  False   \n20         False  False   False         False        False   False  False   \n21         False  False   False         False        False   False  False   \n22         False  False   False         False        False   False  False   \n23         False  False   False         False        False   False  False   \n24          True  False   False         False        False   False  False   \n25         False  False   False         False        False   False  False   \n26         False  False   False         False        False   False  False   \n27         False  False   False         False        False   False  False   \n28         False  False   False         False        False   False  False   \n29         False  False   False         False        False   False  False   \n30         False  False   False         False        False   False  False   \n31         False  False   False         False        False   False  False   \n32         False  False   False         False        False   False  False   \n33         False  False   False         False        False   False  False   \n34         False  False   False         False        False   False  False   \n35         False  False   False         False        False   False  False   \n36         False  False   False         False        False   False  False   \n37         False  False   False         False        False   False  False   \n38         False  False   False         False        False   False  False   \n39         False  False   False         False        False   False  False   \n40         False  False   False         False        False   False  False   \n41         False  False   False         False        False   False  False   \n42         False  False   False         False        False   False  False   \n43         False  False   False         False         True   False  False   \n44          True  False   False          True        False   False  False   \n45         False  False   False         False        False   False  False   \n46         False  False   False         False        False   False  False   \n47          True  False   False          True        False   False  False   \n48         False  False   False         False        False   False  False   \n49         False  False   False         False         True   False  False   \n\n    instrumentalness    key  liveness  loudness  speechiness  tempo  track_id  \\\n0               True  False     False     False        False  False     False   \n1               True  False     False     False        False  False     False   \n2              False  False      True     False        False  False     False   \n3               True  False     False     False        False  False     False   \n4              False  False     False     False        False  False     False   \n5              False  False     False     False        False  False     False   \n6              False  False     False     False        False  False     False   \n7              False  False      True     False        False  False     False   \n8              False  False     False     False        False  False     False   \n9              False  False     False     False        False  False     False   \n10              True  False     False     False        False  False     False   \n11             False  False     False     False        False  False     False   \n12              True  False     False     False        False  False     False   \n13             False  False     False     False        False  False     False   \n14             False  False     False     False        False  False     False   \n15             False  False     False     False        False  False     False   \n16             False  False     False     False        False  False     False   \n17             False  False     False     False        False  False     False   \n18             False  False     False     False        False  False     False   \n19             False  False     False     False         True  False     False   \n20             False  False     False     False        False  False     False   \n21             False  False     False     False        False  False     False   \n22             False  False     False     False        False  False     False   \n23             False  False     False     False        False  False     False   \n24              True  False     False      True        False  False     False   \n25             False  False     False     False        False  False     False   \n26              True  False     False     False         True  False     False   \n27             False  False     False     False         True  False     False   \n28             False  False     False     False        False  False     False   \n29             False  False     False     False         True  False     False   \n30             False  False     False     False        False  False     False   \n31             False  False     False     False        False  False     False   \n32             False  False     False     False        False  False     False   \n33              True  False     False     False        False  False     False   \n34              True  False     False     False        False  False     False   \n35             False  False     False     False        False  False     False   \n36             False  False     False     False        False  False     False   \n37             False  False     False     False        False  False     False   \n38             False  False     False     False         True  False     False   \n39              True  False     False     False        False  False     False   \n40             False  False     False     False        False  False     False   \n41              True  False      True     False        False  False     False   \n42             False  False     False     False        False  False     False   \n43             False  False     False     False         True  False     False   \n44             False  False     False     False        False  False     False   \n45             False  False     False     False        False  False     False   \n46             False  False     False     False        False  False     False   \n47             False  False     False     False        False  False     False   \n48              True  False     False     False        False  False     False   \n49             False  False     False     False        False  False     False   \n\n    track_name  valence  \n0        False    False  \n1        False    False  \n2        False    False  \n3        False    False  \n4        False    False  \n5        False    False  \n6        False    False  \n7        False    False  \n8        False    False  \n9        False    False  \n10       False    False  \n11       False    False  \n12       False    False  \n13       False    False  \n14       False    False  \n15       False    False  \n16       False    False  \n17       False    False  \n18       False    False  \n19       False    False  \n20       False    False  \n21       False    False  \n22       False    False  \n23       False    False  \n24       False    False  \n25       False    False  \n26       False    False  \n27       False    False  \n28       False    False  \n29       False    False  \n30       False    False  \n31       False    False  \n32       False    False  \n33       False    False  \n34       False    False  \n35       False    False  \n36       False    False  \n37       False    False  \n38       False    False  \n39       False    False  \n40       False    False  \n41       False    False  \n42       False    False  \n43       False    False  \n44       False    False  \n45       False    False  \n46       False    False  \n47       False    False  \n48       False    False  \n49       False    False  ",
      "text/html": "<div>\n<style scoped>\n    .dataframe tbody tr th:only-of-type {\n        vertical-align: middle;\n    }\n\n    .dataframe tbody tr th {\n        vertical-align: top;\n    }\n\n    .dataframe thead th {\n        text-align: right;\n    }\n</style>\n<table border=\"1\" class=\"dataframe\">\n  <thead>\n    <tr style=\"text-align: right;\">\n      <th></th>\n      <th>acousticness</th>\n      <th>album</th>\n      <th>artist</th>\n      <th>danceability</th>\n      <th>duration_ms</th>\n      <th>energy</th>\n      <th>genre</th>\n      <th>instrumentalness</th>\n      <th>key</th>\n      <th>liveness</th>\n      <th>loudness</th>\n      <th>speechiness</th>\n      <th>tempo</th>\n      <th>track_id</th>\n      <th>track_name</th>\n      <th>valence</th>\n    </tr>\n  </thead>\n  <tbody>\n    <tr>\n      <th>0</th>\n      <td>False</td>\n      <td>False</td>\n      <td>False</td>\n      <td>False</td>\n      <td>False</td>\n      <td>False</td>\n      <td>False</td>\n      <td>True</td>\n      <td>False</td>\n      <td>False</td>\n      <td>False</td>\n      <td>False</td>\n      <td>False</td>\n      <td>False</td>\n      <td>False</td>\n      <td>False</td>\n    </tr>\n    <tr>\n      <th>1</th>\n      <td>True</td>\n      <td>False</td>\n      <td>False</td>\n      <td>False</td>\n      <td>False</td>\n      <td>False</td>\n      <td>False</td>\n      <td>True</td>\n      <td>False</td>\n      <td>False</td>\n      <td>False</td>\n      <td>False</td>\n      <td>False</td>\n      <td>False</td>\n      <td>False</td>\n      <td>False</td>\n    </tr>\n    <tr>\n      <th>2</th>\n      <td>False</td>\n      <td>False</td>\n      <td>False</td>\n      <td>False</td>\n      <td>False</td>\n      <td>False</td>\n      <td>False</td>\n      <td>False</td>\n      <td>False</td>\n      <td>True</td>\n      <td>False</td>\n      <td>False</td>\n      <td>False</td>\n      <td>False</td>\n      <td>False</td>\n      <td>False</td>\n    </tr>\n    <tr>\n      <th>3</th>\n      <td>False</td>\n      <td>False</td>\n      <td>False</td>\n      <td>False</td>\n      <td>False</td>\n      <td>False</td>\n      <td>False</td>\n      <td>True</td>\n      <td>False</td>\n      <td>False</td>\n      <td>False</td>\n      <td>False</td>\n      <td>False</td>\n      <td>False</td>\n      <td>False</td>\n      <td>False</td>\n    </tr>\n    <tr>\n      <th>4</th>\n      <td>False</td>\n      <td>False</td>\n      <td>False</td>\n      <td>False</td>\n      <td>False</td>\n      <td>False</td>\n      <td>False</td>\n      <td>False</td>\n      <td>False</td>\n      <td>False</td>\n      <td>False</td>\n      <td>False</td>\n      <td>False</td>\n      <td>False</td>\n      <td>False</td>\n      <td>False</td>\n    </tr>\n    <tr>\n      <th>5</th>\n      <td>False</td>\n      <td>False</td>\n      <td>False</td>\n      <td>False</td>\n      <td>False</td>\n      <td>False</td>\n      <td>False</td>\n      <td>False</td>\n      <td>False</td>\n      <td>False</td>\n      <td>False</td>\n      <td>False</td>\n      <td>False</td>\n      <td>False</td>\n      <td>False</td>\n      <td>False</td>\n    </tr>\n    <tr>\n      <th>6</th>\n      <td>False</td>\n      <td>False</td>\n      <td>False</td>\n      <td>False</td>\n      <td>False</td>\n      <td>False</td>\n      <td>False</td>\n      <td>False</td>\n      <td>False</td>\n      <td>False</td>\n      <td>False</td>\n      <td>False</td>\n      <td>False</td>\n      <td>False</td>\n      <td>False</td>\n      <td>False</td>\n    </tr>\n    <tr>\n      <th>7</th>\n      <td>True</td>\n      <td>False</td>\n      <td>False</td>\n      <td>False</td>\n      <td>False</td>\n      <td>False</td>\n      <td>False</td>\n      <td>False</td>\n      <td>False</td>\n      <td>True</td>\n      <td>False</td>\n      <td>False</td>\n      <td>False</td>\n      <td>False</td>\n      <td>False</td>\n      <td>False</td>\n    </tr>\n    <tr>\n      <th>8</th>\n      <td>False</td>\n      <td>False</td>\n      <td>False</td>\n      <td>False</td>\n      <td>False</td>\n      <td>False</td>\n      <td>False</td>\n      <td>False</td>\n      <td>False</td>\n      <td>False</td>\n      <td>False</td>\n      <td>False</td>\n      <td>False</td>\n      <td>False</td>\n      <td>False</td>\n      <td>False</td>\n    </tr>\n    <tr>\n      <th>9</th>\n      <td>True</td>\n      <td>False</td>\n      <td>False</td>\n      <td>False</td>\n      <td>False</td>\n      <td>False</td>\n      <td>False</td>\n      <td>False</td>\n      <td>False</td>\n      <td>False</td>\n      <td>False</td>\n      <td>False</td>\n      <td>False</td>\n      <td>False</td>\n      <td>False</td>\n      <td>False</td>\n    </tr>\n    <tr>\n      <th>10</th>\n      <td>False</td>\n      <td>False</td>\n      <td>False</td>\n      <td>False</td>\n      <td>False</td>\n      <td>False</td>\n      <td>False</td>\n      <td>True</td>\n      <td>False</td>\n      <td>False</td>\n      <td>False</td>\n      <td>False</td>\n      <td>False</td>\n      <td>False</td>\n      <td>False</td>\n      <td>False</td>\n    </tr>\n    <tr>\n      <th>11</th>\n      <td>False</td>\n      <td>False</td>\n      <td>False</td>\n      <td>False</td>\n      <td>False</td>\n      <td>False</td>\n      <td>False</td>\n      <td>False</td>\n      <td>False</td>\n      <td>False</td>\n      <td>False</td>\n      <td>False</td>\n      <td>False</td>\n      <td>False</td>\n      <td>False</td>\n      <td>False</td>\n    </tr>\n    <tr>\n      <th>12</th>\n      <td>False</td>\n      <td>False</td>\n      <td>False</td>\n      <td>False</td>\n      <td>False</td>\n      <td>False</td>\n      <td>False</td>\n      <td>True</td>\n      <td>False</td>\n      <td>False</td>\n      <td>False</td>\n      <td>False</td>\n      <td>False</td>\n      <td>False</td>\n      <td>False</td>\n      <td>False</td>\n    </tr>\n    <tr>\n      <th>13</th>\n      <td>False</td>\n      <td>False</td>\n      <td>False</td>\n      <td>False</td>\n      <td>False</td>\n      <td>False</td>\n      <td>False</td>\n      <td>False</td>\n      <td>False</td>\n      <td>False</td>\n      <td>False</td>\n      <td>False</td>\n      <td>False</td>\n      <td>False</td>\n      <td>False</td>\n      <td>False</td>\n    </tr>\n    <tr>\n      <th>14</th>\n      <td>False</td>\n      <td>False</td>\n      <td>False</td>\n      <td>False</td>\n      <td>False</td>\n      <td>False</td>\n      <td>False</td>\n      <td>False</td>\n      <td>False</td>\n      <td>False</td>\n      <td>False</td>\n      <td>False</td>\n      <td>False</td>\n      <td>False</td>\n      <td>False</td>\n      <td>False</td>\n    </tr>\n    <tr>\n      <th>15</th>\n      <td>False</td>\n      <td>False</td>\n      <td>False</td>\n      <td>False</td>\n      <td>False</td>\n      <td>False</td>\n      <td>False</td>\n      <td>False</td>\n      <td>False</td>\n      <td>False</td>\n      <td>False</td>\n      <td>False</td>\n      <td>False</td>\n      <td>False</td>\n      <td>False</td>\n      <td>False</td>\n    </tr>\n    <tr>\n      <th>16</th>\n      <td>False</td>\n      <td>False</td>\n      <td>False</td>\n      <td>True</td>\n      <td>False</td>\n      <td>False</td>\n      <td>False</td>\n      <td>False</td>\n      <td>False</td>\n      <td>False</td>\n      <td>False</td>\n      <td>False</td>\n      <td>False</td>\n      <td>False</td>\n      <td>False</td>\n      <td>False</td>\n    </tr>\n    <tr>\n      <th>17</th>\n      <td>False</td>\n      <td>False</td>\n      <td>False</td>\n      <td>False</td>\n      <td>False</td>\n      <td>False</td>\n      <td>False</td>\n      <td>False</td>\n      <td>False</td>\n      <td>False</td>\n      <td>False</td>\n      <td>False</td>\n      <td>False</td>\n      <td>False</td>\n      <td>False</td>\n      <td>False</td>\n    </tr>\n    <tr>\n      <th>18</th>\n      <td>True</td>\n      <td>False</td>\n      <td>False</td>\n      <td>False</td>\n      <td>False</td>\n      <td>False</td>\n      <td>False</td>\n      <td>False</td>\n      <td>False</td>\n      <td>False</td>\n      <td>False</td>\n      <td>False</td>\n      <td>False</td>\n      <td>False</td>\n      <td>False</td>\n      <td>False</td>\n    </tr>\n    <tr>\n      <th>19</th>\n      <td>False</td>\n      <td>False</td>\n      <td>False</td>\n      <td>False</td>\n      <td>False</td>\n      <td>False</td>\n      <td>False</td>\n      <td>False</td>\n      <td>False</td>\n      <td>False</td>\n      <td>False</td>\n      <td>True</td>\n      <td>False</td>\n      <td>False</td>\n      <td>False</td>\n      <td>False</td>\n    </tr>\n    <tr>\n      <th>20</th>\n      <td>False</td>\n      <td>False</td>\n      <td>False</td>\n      <td>False</td>\n      <td>False</td>\n      <td>False</td>\n      <td>False</td>\n      <td>False</td>\n      <td>False</td>\n      <td>False</td>\n      <td>False</td>\n      <td>False</td>\n      <td>False</td>\n      <td>False</td>\n      <td>False</td>\n      <td>False</td>\n    </tr>\n    <tr>\n      <th>21</th>\n      <td>False</td>\n      <td>False</td>\n      <td>False</td>\n      <td>False</td>\n      <td>False</td>\n      <td>False</td>\n      <td>False</td>\n      <td>False</td>\n      <td>False</td>\n      <td>False</td>\n      <td>False</td>\n      <td>False</td>\n      <td>False</td>\n      <td>False</td>\n      <td>False</td>\n      <td>False</td>\n    </tr>\n    <tr>\n      <th>22</th>\n      <td>False</td>\n      <td>False</td>\n      <td>False</td>\n      <td>False</td>\n      <td>False</td>\n      <td>False</td>\n      <td>False</td>\n      <td>False</td>\n      <td>False</td>\n      <td>False</td>\n      <td>False</td>\n      <td>False</td>\n      <td>False</td>\n      <td>False</td>\n      <td>False</td>\n      <td>False</td>\n    </tr>\n    <tr>\n      <th>23</th>\n      <td>False</td>\n      <td>False</td>\n      <td>False</td>\n      <td>False</td>\n      <td>False</td>\n      <td>False</td>\n      <td>False</td>\n      <td>False</td>\n      <td>False</td>\n      <td>False</td>\n      <td>False</td>\n      <td>False</td>\n      <td>False</td>\n      <td>False</td>\n      <td>False</td>\n      <td>False</td>\n    </tr>\n    <tr>\n      <th>24</th>\n      <td>True</td>\n      <td>False</td>\n      <td>False</td>\n      <td>False</td>\n      <td>False</td>\n      <td>False</td>\n      <td>False</td>\n      <td>True</td>\n      <td>False</td>\n      <td>False</td>\n      <td>True</td>\n      <td>False</td>\n      <td>False</td>\n      <td>False</td>\n      <td>False</td>\n      <td>False</td>\n    </tr>\n    <tr>\n      <th>25</th>\n      <td>False</td>\n      <td>False</td>\n      <td>False</td>\n      <td>False</td>\n      <td>False</td>\n      <td>False</td>\n      <td>False</td>\n      <td>False</td>\n      <td>False</td>\n      <td>False</td>\n      <td>False</td>\n      <td>False</td>\n      <td>False</td>\n      <td>False</td>\n      <td>False</td>\n      <td>False</td>\n    </tr>\n    <tr>\n      <th>26</th>\n      <td>False</td>\n      <td>False</td>\n      <td>False</td>\n      <td>False</td>\n      <td>False</td>\n      <td>False</td>\n      <td>False</td>\n      <td>True</td>\n      <td>False</td>\n      <td>False</td>\n      <td>False</td>\n      <td>True</td>\n      <td>False</td>\n      <td>False</td>\n      <td>False</td>\n      <td>False</td>\n    </tr>\n    <tr>\n      <th>27</th>\n      <td>False</td>\n      <td>False</td>\n      <td>False</td>\n      <td>False</td>\n      <td>False</td>\n      <td>False</td>\n      <td>False</td>\n      <td>False</td>\n      <td>False</td>\n      <td>False</td>\n      <td>False</td>\n      <td>True</td>\n      <td>False</td>\n      <td>False</td>\n      <td>False</td>\n      <td>False</td>\n    </tr>\n    <tr>\n      <th>28</th>\n      <td>False</td>\n      <td>False</td>\n      <td>False</td>\n      <td>False</td>\n      <td>False</td>\n      <td>False</td>\n      <td>False</td>\n      <td>False</td>\n      <td>False</td>\n      <td>False</td>\n      <td>False</td>\n      <td>False</td>\n      <td>False</td>\n      <td>False</td>\n      <td>False</td>\n      <td>False</td>\n    </tr>\n    <tr>\n      <th>29</th>\n      <td>False</td>\n      <td>False</td>\n      <td>False</td>\n      <td>False</td>\n      <td>False</td>\n      <td>False</td>\n      <td>False</td>\n      <td>False</td>\n      <td>False</td>\n      <td>False</td>\n      <td>False</td>\n      <td>True</td>\n      <td>False</td>\n      <td>False</td>\n      <td>False</td>\n      <td>False</td>\n    </tr>\n    <tr>\n      <th>30</th>\n      <td>False</td>\n      <td>False</td>\n      <td>False</td>\n      <td>False</td>\n      <td>False</td>\n      <td>False</td>\n      <td>False</td>\n      <td>False</td>\n      <td>False</td>\n      <td>False</td>\n      <td>False</td>\n      <td>False</td>\n      <td>False</td>\n      <td>False</td>\n      <td>False</td>\n      <td>False</td>\n    </tr>\n    <tr>\n      <th>31</th>\n      <td>False</td>\n      <td>False</td>\n      <td>False</td>\n      <td>False</td>\n      <td>False</td>\n      <td>False</td>\n      <td>False</td>\n      <td>False</td>\n      <td>False</td>\n      <td>False</td>\n      <td>False</td>\n      <td>False</td>\n      <td>False</td>\n      <td>False</td>\n      <td>False</td>\n      <td>False</td>\n    </tr>\n    <tr>\n      <th>32</th>\n      <td>False</td>\n      <td>False</td>\n      <td>False</td>\n      <td>False</td>\n      <td>False</td>\n      <td>False</td>\n      <td>False</td>\n      <td>False</td>\n      <td>False</td>\n      <td>False</td>\n      <td>False</td>\n      <td>False</td>\n      <td>False</td>\n      <td>False</td>\n      <td>False</td>\n      <td>False</td>\n    </tr>\n    <tr>\n      <th>33</th>\n      <td>False</td>\n      <td>False</td>\n      <td>False</td>\n      <td>False</td>\n      <td>False</td>\n      <td>False</td>\n      <td>False</td>\n      <td>True</td>\n      <td>False</td>\n      <td>False</td>\n      <td>False</td>\n      <td>False</td>\n      <td>False</td>\n      <td>False</td>\n      <td>False</td>\n      <td>False</td>\n    </tr>\n    <tr>\n      <th>34</th>\n      <td>False</td>\n      <td>False</td>\n      <td>False</td>\n      <td>False</td>\n      <td>False</td>\n      <td>False</td>\n      <td>False</td>\n      <td>True</td>\n      <td>False</td>\n      <td>False</td>\n      <td>False</td>\n      <td>False</td>\n      <td>False</td>\n      <td>False</td>\n      <td>False</td>\n      <td>False</td>\n    </tr>\n    <tr>\n      <th>35</th>\n      <td>False</td>\n      <td>False</td>\n      <td>False</td>\n      <td>False</td>\n      <td>False</td>\n      <td>False</td>\n      <td>False</td>\n      <td>False</td>\n      <td>False</td>\n      <td>False</td>\n      <td>False</td>\n      <td>False</td>\n      <td>False</td>\n      <td>False</td>\n      <td>False</td>\n      <td>False</td>\n    </tr>\n    <tr>\n      <th>36</th>\n      <td>False</td>\n      <td>False</td>\n      <td>False</td>\n      <td>False</td>\n      <td>False</td>\n      <td>False</td>\n      <td>False</td>\n      <td>False</td>\n      <td>False</td>\n      <td>False</td>\n      <td>False</td>\n      <td>False</td>\n      <td>False</td>\n      <td>False</td>\n      <td>False</td>\n      <td>False</td>\n    </tr>\n    <tr>\n      <th>37</th>\n      <td>False</td>\n      <td>False</td>\n      <td>False</td>\n      <td>False</td>\n      <td>False</td>\n      <td>False</td>\n      <td>False</td>\n      <td>False</td>\n      <td>False</td>\n      <td>False</td>\n      <td>False</td>\n      <td>False</td>\n      <td>False</td>\n      <td>False</td>\n      <td>False</td>\n      <td>False</td>\n    </tr>\n    <tr>\n      <th>38</th>\n      <td>False</td>\n      <td>False</td>\n      <td>False</td>\n      <td>False</td>\n      <td>False</td>\n      <td>False</td>\n      <td>False</td>\n      <td>False</td>\n      <td>False</td>\n      <td>False</td>\n      <td>False</td>\n      <td>True</td>\n      <td>False</td>\n      <td>False</td>\n      <td>False</td>\n      <td>False</td>\n    </tr>\n    <tr>\n      <th>39</th>\n      <td>False</td>\n      <td>False</td>\n      <td>False</td>\n      <td>False</td>\n      <td>False</td>\n      <td>False</td>\n      <td>False</td>\n      <td>True</td>\n      <td>False</td>\n      <td>False</td>\n      <td>False</td>\n      <td>False</td>\n      <td>False</td>\n      <td>False</td>\n      <td>False</td>\n      <td>False</td>\n    </tr>\n    <tr>\n      <th>40</th>\n      <td>False</td>\n      <td>False</td>\n      <td>False</td>\n      <td>False</td>\n      <td>False</td>\n      <td>False</td>\n      <td>False</td>\n      <td>False</td>\n      <td>False</td>\n      <td>False</td>\n      <td>False</td>\n      <td>False</td>\n      <td>False</td>\n      <td>False</td>\n      <td>False</td>\n      <td>False</td>\n    </tr>\n    <tr>\n      <th>41</th>\n      <td>False</td>\n      <td>False</td>\n      <td>False</td>\n      <td>False</td>\n      <td>False</td>\n      <td>False</td>\n      <td>False</td>\n      <td>True</td>\n      <td>False</td>\n      <td>True</td>\n      <td>False</td>\n      <td>False</td>\n      <td>False</td>\n      <td>False</td>\n      <td>False</td>\n      <td>False</td>\n    </tr>\n    <tr>\n      <th>42</th>\n      <td>False</td>\n      <td>False</td>\n      <td>False</td>\n      <td>False</td>\n      <td>False</td>\n      <td>False</td>\n      <td>False</td>\n      <td>False</td>\n      <td>False</td>\n      <td>False</td>\n      <td>False</td>\n      <td>False</td>\n      <td>False</td>\n      <td>False</td>\n      <td>False</td>\n      <td>False</td>\n    </tr>\n    <tr>\n      <th>43</th>\n      <td>False</td>\n      <td>False</td>\n      <td>False</td>\n      <td>False</td>\n      <td>True</td>\n      <td>False</td>\n      <td>False</td>\n      <td>False</td>\n      <td>False</td>\n      <td>False</td>\n      <td>False</td>\n      <td>True</td>\n      <td>False</td>\n      <td>False</td>\n      <td>False</td>\n      <td>False</td>\n    </tr>\n    <tr>\n      <th>44</th>\n      <td>True</td>\n      <td>False</td>\n      <td>False</td>\n      <td>True</td>\n      <td>False</td>\n      <td>False</td>\n      <td>False</td>\n      <td>False</td>\n      <td>False</td>\n      <td>False</td>\n      <td>False</td>\n      <td>False</td>\n      <td>False</td>\n      <td>False</td>\n      <td>False</td>\n      <td>False</td>\n    </tr>\n    <tr>\n      <th>45</th>\n      <td>False</td>\n      <td>False</td>\n      <td>False</td>\n      <td>False</td>\n      <td>False</td>\n      <td>False</td>\n      <td>False</td>\n      <td>False</td>\n      <td>False</td>\n      <td>False</td>\n      <td>False</td>\n      <td>False</td>\n      <td>False</td>\n      <td>False</td>\n      <td>False</td>\n      <td>False</td>\n    </tr>\n    <tr>\n      <th>46</th>\n      <td>False</td>\n      <td>False</td>\n      <td>False</td>\n      <td>False</td>\n      <td>False</td>\n      <td>False</td>\n      <td>False</td>\n      <td>False</td>\n      <td>False</td>\n      <td>False</td>\n      <td>False</td>\n      <td>False</td>\n      <td>False</td>\n      <td>False</td>\n      <td>False</td>\n      <td>False</td>\n    </tr>\n    <tr>\n      <th>47</th>\n      <td>True</td>\n      <td>False</td>\n      <td>False</td>\n      <td>True</td>\n      <td>False</td>\n      <td>False</td>\n      <td>False</td>\n      <td>False</td>\n      <td>False</td>\n      <td>False</td>\n      <td>False</td>\n      <td>False</td>\n      <td>False</td>\n      <td>False</td>\n      <td>False</td>\n      <td>False</td>\n    </tr>\n    <tr>\n      <th>48</th>\n      <td>False</td>\n      <td>False</td>\n      <td>False</td>\n      <td>False</td>\n      <td>False</td>\n      <td>False</td>\n      <td>False</td>\n      <td>True</td>\n      <td>False</td>\n      <td>False</td>\n      <td>False</td>\n      <td>False</td>\n      <td>False</td>\n      <td>False</td>\n      <td>False</td>\n      <td>False</td>\n    </tr>\n    <tr>\n      <th>49</th>\n      <td>False</td>\n      <td>False</td>\n      <td>False</td>\n      <td>False</td>\n      <td>True</td>\n      <td>False</td>\n      <td>False</td>\n      <td>False</td>\n      <td>False</td>\n      <td>False</td>\n      <td>False</td>\n      <td>False</td>\n      <td>False</td>\n      <td>False</td>\n      <td>False</td>\n      <td>False</td>\n    </tr>\n  </tbody>\n</table>\n</div>"
     },
     "execution_count": 54,
     "metadata": {},
     "output_type": "execute_result"
    }
   ],
   "source": [
    "(df < q1 - (1.5 * iqr)) | (df > q3 + (1.5 * iqr))"
   ],
   "metadata": {
    "collapsed": false,
    "pycharm": {
     "name": "#%%\n"
    }
   }
  },
  {
   "cell_type": "code",
   "execution_count": 55,
   "outputs": [
    {
     "data": {
      "text/plain": "          energy  danceability        key   loudness  acousticness  \\\ncount  50.000000     50.000000  50.000000  50.000000     50.000000   \nmean    0.609300      0.716720   5.720000  -6.225900      0.256206   \nstd     0.154348      0.124975   3.709007   2.349744      0.265250   \nmin     0.225000      0.351000   0.000000 -14.454000      0.001460   \n25%     0.494000      0.672500   2.000000  -7.552500      0.052800   \n50%     0.597000      0.746000   6.500000  -5.991500      0.188500   \n75%     0.729750      0.794500   8.750000  -4.285500      0.298750   \nmax     0.855000      0.935000  11.000000  -3.280000      0.934000   \n\n       speechiness  instrumentalness   liveness    valence       tempo  \\\ncount    50.000000         50.000000  50.000000  50.000000   50.000000   \nmean      0.124158          0.015962   0.196552   0.555710  119.690460   \nstd       0.116836          0.094312   0.176610   0.216386   25.414778   \nmin       0.029000          0.000000   0.057400   0.060500   75.801000   \n25%       0.048325          0.000000   0.093950   0.434000   99.557250   \n50%       0.070050          0.000000   0.111000   0.560000  116.969000   \n75%       0.155500          0.000020   0.271250   0.726250  132.317000   \nmax       0.487000          0.657000   0.792000   0.925000  180.067000   \n\n         duration_ms  \ncount      50.000000  \nmean   199955.360000  \nstd     33996.122488  \nmin    140526.000000  \n25%    175845.500000  \n50%    197853.500000  \n75%    215064.000000  \nmax    312820.000000  ",
      "text/html": "<div>\n<style scoped>\n    .dataframe tbody tr th:only-of-type {\n        vertical-align: middle;\n    }\n\n    .dataframe tbody tr th {\n        vertical-align: top;\n    }\n\n    .dataframe thead th {\n        text-align: right;\n    }\n</style>\n<table border=\"1\" class=\"dataframe\">\n  <thead>\n    <tr style=\"text-align: right;\">\n      <th></th>\n      <th>energy</th>\n      <th>danceability</th>\n      <th>key</th>\n      <th>loudness</th>\n      <th>acousticness</th>\n      <th>speechiness</th>\n      <th>instrumentalness</th>\n      <th>liveness</th>\n      <th>valence</th>\n      <th>tempo</th>\n      <th>duration_ms</th>\n    </tr>\n  </thead>\n  <tbody>\n    <tr>\n      <th>count</th>\n      <td>50.000000</td>\n      <td>50.000000</td>\n      <td>50.000000</td>\n      <td>50.000000</td>\n      <td>50.000000</td>\n      <td>50.000000</td>\n      <td>50.000000</td>\n      <td>50.000000</td>\n      <td>50.000000</td>\n      <td>50.000000</td>\n      <td>50.000000</td>\n    </tr>\n    <tr>\n      <th>mean</th>\n      <td>0.609300</td>\n      <td>0.716720</td>\n      <td>5.720000</td>\n      <td>-6.225900</td>\n      <td>0.256206</td>\n      <td>0.124158</td>\n      <td>0.015962</td>\n      <td>0.196552</td>\n      <td>0.555710</td>\n      <td>119.690460</td>\n      <td>199955.360000</td>\n    </tr>\n    <tr>\n      <th>std</th>\n      <td>0.154348</td>\n      <td>0.124975</td>\n      <td>3.709007</td>\n      <td>2.349744</td>\n      <td>0.265250</td>\n      <td>0.116836</td>\n      <td>0.094312</td>\n      <td>0.176610</td>\n      <td>0.216386</td>\n      <td>25.414778</td>\n      <td>33996.122488</td>\n    </tr>\n    <tr>\n      <th>min</th>\n      <td>0.225000</td>\n      <td>0.351000</td>\n      <td>0.000000</td>\n      <td>-14.454000</td>\n      <td>0.001460</td>\n      <td>0.029000</td>\n      <td>0.000000</td>\n      <td>0.057400</td>\n      <td>0.060500</td>\n      <td>75.801000</td>\n      <td>140526.000000</td>\n    </tr>\n    <tr>\n      <th>25%</th>\n      <td>0.494000</td>\n      <td>0.672500</td>\n      <td>2.000000</td>\n      <td>-7.552500</td>\n      <td>0.052800</td>\n      <td>0.048325</td>\n      <td>0.000000</td>\n      <td>0.093950</td>\n      <td>0.434000</td>\n      <td>99.557250</td>\n      <td>175845.500000</td>\n    </tr>\n    <tr>\n      <th>50%</th>\n      <td>0.597000</td>\n      <td>0.746000</td>\n      <td>6.500000</td>\n      <td>-5.991500</td>\n      <td>0.188500</td>\n      <td>0.070050</td>\n      <td>0.000000</td>\n      <td>0.111000</td>\n      <td>0.560000</td>\n      <td>116.969000</td>\n      <td>197853.500000</td>\n    </tr>\n    <tr>\n      <th>75%</th>\n      <td>0.729750</td>\n      <td>0.794500</td>\n      <td>8.750000</td>\n      <td>-4.285500</td>\n      <td>0.298750</td>\n      <td>0.155500</td>\n      <td>0.000020</td>\n      <td>0.271250</td>\n      <td>0.726250</td>\n      <td>132.317000</td>\n      <td>215064.000000</td>\n    </tr>\n    <tr>\n      <th>max</th>\n      <td>0.855000</td>\n      <td>0.935000</td>\n      <td>11.000000</td>\n      <td>-3.280000</td>\n      <td>0.934000</td>\n      <td>0.487000</td>\n      <td>0.657000</td>\n      <td>0.792000</td>\n      <td>0.925000</td>\n      <td>180.067000</td>\n      <td>312820.000000</td>\n    </tr>\n  </tbody>\n</table>\n</div>"
     },
     "execution_count": 55,
     "metadata": {},
     "output_type": "execute_result"
    }
   ],
   "source": [
    "df.describe()"
   ],
   "metadata": {
    "collapsed": false,
    "pycharm": {
     "name": "#%%\n"
    }
   }
  },
  {
   "cell_type": "code",
   "execution_count": 56,
   "outputs": [
    {
     "name": "stderr",
     "output_type": "stream",
     "text": [
      "<ipython-input-56-7333af6f311f>:1: FutureWarning: Automatic reindexing on DataFrame vs Series comparisons is deprecated and will raise ValueError in a future version.  Do `left, right = left.align(right, axis=1, copy=False)` before e.g. `left == right`\n",
      "  df_outliers = df[~((df < q1 - (1.5 * iqr)) | (df > q3 + (1.5 * iqr))).any(axis=1)]\n",
      "<ipython-input-56-7333af6f311f>:1: FutureWarning: Automatic reindexing on DataFrame vs Series comparisons is deprecated and will raise ValueError in a future version.  Do `left, right = left.align(right, axis=1, copy=False)` before e.g. `left == right`\n",
      "  df_outliers = df[~((df < q1 - (1.5 * iqr)) | (df > q3 + (1.5 * iqr))).any(axis=1)]\n"
     ]
    }
   ],
   "source": [
    "df_outliers = df[~((df < q1 - (1.5 * iqr)) | (df > q3 + (1.5 * iqr))).any(axis=1)]"
   ],
   "metadata": {
    "collapsed": false,
    "pycharm": {
     "name": "#%%\n"
    }
   }
  },
  {
   "cell_type": "code",
   "execution_count": 57,
   "outputs": [
    {
     "data": {
      "text/plain": "(50, 16)"
     },
     "execution_count": 57,
     "metadata": {},
     "output_type": "execute_result"
    }
   ],
   "source": [
    "df.shape"
   ],
   "metadata": {
    "collapsed": false,
    "pycharm": {
     "name": "#%%\n"
    }
   }
  },
  {
   "cell_type": "code",
   "execution_count": 58,
   "outputs": [
    {
     "data": {
      "text/plain": "(25, 16)"
     },
     "execution_count": 58,
     "metadata": {},
     "output_type": "execute_result"
    }
   ],
   "source": [
    "df_outliers.shape"
   ],
   "metadata": {
    "collapsed": false,
    "pycharm": {
     "name": "#%%\n"
    }
   }
  },
  {
   "cell_type": "markdown",
   "source": [
    "## How many observations there are in this dataset?"
   ],
   "metadata": {
    "collapsed": false
   }
  },
  {
   "cell_type": "code",
   "execution_count": 59,
   "outputs": [
    {
     "data": {
      "text/plain": "50"
     },
     "execution_count": 59,
     "metadata": {},
     "output_type": "execute_result"
    }
   ],
   "source": [
    "df.shape[0]"
   ],
   "metadata": {
    "collapsed": false,
    "pycharm": {
     "name": "#%%\n"
    }
   }
  },
  {
   "cell_type": "markdown",
   "source": [
    "## How many features this dataset has?"
   ],
   "metadata": {
    "collapsed": false
   }
  },
  {
   "cell_type": "code",
   "execution_count": 60,
   "outputs": [
    {
     "data": {
      "text/plain": "16"
     },
     "execution_count": 60,
     "metadata": {},
     "output_type": "execute_result"
    }
   ],
   "source": [
    "df.shape[1]"
   ],
   "metadata": {
    "collapsed": false,
    "pycharm": {
     "name": "#%%\n"
    }
   }
  },
  {
   "cell_type": "markdown",
   "source": [
    "## Which of the features are categorical?"
   ],
   "metadata": {
    "collapsed": false
   }
  },
  {
   "cell_type": "code",
   "execution_count": 61,
   "outputs": [
    {
     "data": {
      "text/plain": "artist               object\nalbum                object\ntrack_name           object\ntrack_id             object\nenergy              float64\ndanceability        float64\nkey                   int64\nloudness            float64\nacousticness        float64\nspeechiness         float64\ninstrumentalness    float64\nliveness            float64\nvalence             float64\ntempo               float64\nduration_ms           int64\ngenre                object\ndtype: object"
     },
     "execution_count": 61,
     "metadata": {},
     "output_type": "execute_result"
    }
   ],
   "source": [
    "df.dtypes"
   ],
   "metadata": {
    "collapsed": false,
    "pycharm": {
     "name": "#%%\n"
    }
   }
  },
  {
   "cell_type": "markdown",
   "source": [
    "artist\n",
    "track_name\n",
    "genre\n",
    "album\n",
    "Also key is categorical, because you can't add or divide key."
   ],
   "metadata": {
    "collapsed": false
   }
  },
  {
   "cell_type": "code",
   "execution_count": 62,
   "outputs": [
    {
     "name": "stdout",
     "output_type": "stream",
     "text": [
      "<class 'pandas.core.frame.DataFrame'>\n",
      "Int64Index: 50 entries, 0 to 49\n",
      "Columns: 16 entries, artist to genre\n",
      "dtypes: float64(9), int64(2), object(5)\n",
      "memory usage: 6.6+ KB\n"
     ]
    }
   ],
   "source": [
    "df.info(verbose=False)"
   ],
   "metadata": {
    "collapsed": false,
    "pycharm": {
     "name": "#%%\n"
    }
   }
  },
  {
   "cell_type": "markdown",
   "source": [],
   "metadata": {
    "collapsed": false
   }
  },
  {
   "cell_type": "markdown",
   "source": [
    "10 features are numerical, float64 - 9,  int64 - 1\""
   ],
   "metadata": {
    "collapsed": false
   }
  },
  {
   "cell_type": "markdown",
   "source": [
    "## Are there any artists that have more than 1 popular track? If yes, which and how many?"
   ],
   "metadata": {
    "collapsed": false
   }
  },
  {
   "cell_type": "code",
   "execution_count": 63,
   "outputs": [],
   "source": [
    "popular_track = df.loc[df[\"artist\"].isin(df[\"artist\"].value_counts().loc[lambda x: x>1].index)].sort_values(\"artist\",ascending=True)"
   ],
   "metadata": {
    "collapsed": false,
    "pycharm": {
     "name": "#%%\n"
    }
   }
  },
  {
   "cell_type": "code",
   "execution_count": 64,
   "outputs": [
    {
     "data": {
      "text/plain": "           artist                                     track_name\n26  Billie Eilish                                        bad guy\n44  Billie Eilish                           lovely (with Khalid)\n24  Billie Eilish                            everything i wanted\n31       Dua Lipa                                 Break My Heart\n48       Dua Lipa                                       Physical\n4        Dua Lipa                                Don't Start Now\n21   Harry Styles                                      Adore You\n6    Harry Styles                               Watermelon Sugar\n30  Justin Bieber                                          Yummy\n14  Justin Bieber                       Intentions (feat. Quavo)\n9   Lewis Capaldi                              Someone You Loved\n16  Lewis Capaldi                                  Before You Go\n12    Post Malone                                        Circles\n37    Post Malone  Sunflower - Spider-Man: Into the Spider-Verse\n36   Travis Scott                            HIGHEST IN THE ROOM\n40   Travis Scott                                     goosebumps\n49   Travis Scott                                     SICKO MODE",
      "text/html": "<div>\n<style scoped>\n    .dataframe tbody tr th:only-of-type {\n        vertical-align: middle;\n    }\n\n    .dataframe tbody tr th {\n        vertical-align: top;\n    }\n\n    .dataframe thead th {\n        text-align: right;\n    }\n</style>\n<table border=\"1\" class=\"dataframe\">\n  <thead>\n    <tr style=\"text-align: right;\">\n      <th></th>\n      <th>artist</th>\n      <th>track_name</th>\n    </tr>\n  </thead>\n  <tbody>\n    <tr>\n      <th>26</th>\n      <td>Billie Eilish</td>\n      <td>bad guy</td>\n    </tr>\n    <tr>\n      <th>44</th>\n      <td>Billie Eilish</td>\n      <td>lovely (with Khalid)</td>\n    </tr>\n    <tr>\n      <th>24</th>\n      <td>Billie Eilish</td>\n      <td>everything i wanted</td>\n    </tr>\n    <tr>\n      <th>31</th>\n      <td>Dua Lipa</td>\n      <td>Break My Heart</td>\n    </tr>\n    <tr>\n      <th>48</th>\n      <td>Dua Lipa</td>\n      <td>Physical</td>\n    </tr>\n    <tr>\n      <th>4</th>\n      <td>Dua Lipa</td>\n      <td>Don't Start Now</td>\n    </tr>\n    <tr>\n      <th>21</th>\n      <td>Harry Styles</td>\n      <td>Adore You</td>\n    </tr>\n    <tr>\n      <th>6</th>\n      <td>Harry Styles</td>\n      <td>Watermelon Sugar</td>\n    </tr>\n    <tr>\n      <th>30</th>\n      <td>Justin Bieber</td>\n      <td>Yummy</td>\n    </tr>\n    <tr>\n      <th>14</th>\n      <td>Justin Bieber</td>\n      <td>Intentions (feat. Quavo)</td>\n    </tr>\n    <tr>\n      <th>9</th>\n      <td>Lewis Capaldi</td>\n      <td>Someone You Loved</td>\n    </tr>\n    <tr>\n      <th>16</th>\n      <td>Lewis Capaldi</td>\n      <td>Before You Go</td>\n    </tr>\n    <tr>\n      <th>12</th>\n      <td>Post Malone</td>\n      <td>Circles</td>\n    </tr>\n    <tr>\n      <th>37</th>\n      <td>Post Malone</td>\n      <td>Sunflower - Spider-Man: Into the Spider-Verse</td>\n    </tr>\n    <tr>\n      <th>36</th>\n      <td>Travis Scott</td>\n      <td>HIGHEST IN THE ROOM</td>\n    </tr>\n    <tr>\n      <th>40</th>\n      <td>Travis Scott</td>\n      <td>goosebumps</td>\n    </tr>\n    <tr>\n      <th>49</th>\n      <td>Travis Scott</td>\n      <td>SICKO MODE</td>\n    </tr>\n  </tbody>\n</table>\n</div>"
     },
     "execution_count": 64,
     "metadata": {},
     "output_type": "execute_result"
    }
   ],
   "source": [
    "popular_track[[\"artist\",\"track_name\"]].sort_values(\"artist\",ascending=True)"
   ],
   "metadata": {
    "collapsed": false,
    "pycharm": {
     "name": "#%%\n"
    }
   }
  },
  {
   "cell_type": "code",
   "execution_count": 65,
   "outputs": [
    {
     "data": {
      "text/plain": "17"
     },
     "execution_count": 65,
     "metadata": {},
     "output_type": "execute_result"
    }
   ],
   "source": [
    "len(popular_track)"
   ],
   "metadata": {
    "collapsed": false,
    "pycharm": {
     "name": "#%%\n"
    }
   }
  },
  {
   "cell_type": "markdown",
   "source": [
    "## Who was the most popular artist?"
   ],
   "metadata": {
    "collapsed": false
   }
  },
  {
   "cell_type": "code",
   "execution_count": 109,
   "outputs": [
    {
     "data": {
      "text/plain": "Travis Scott       3\nDua Lipa           3\nBillie Eilish      3\nLewis Capaldi      2\nHarry Styles       2\nJustin Bieber      2\nPost Malone        2\nBad Bunny          1\nArizona Zervas     1\nLady Gaga          1\nJawsh 685          1\nTHE SCOTTS         1\nDoja Cat           1\nTopic              1\nPowfu              1\nEminem             1\nSurfaces           1\nShawn Mendes       1\nLil Mosey          1\nRoddy Ricch        1\nDrake              1\nTrevor Daniel      1\nDaBaby             1\nMaluma             1\nSAINt JHN          1\nThe Weeknd         1\nSurf Mesa          1\nRegard             1\nBENEE              1\nMaroon 5           1\nJuice WRLD         1\nFuture             1\nKAROL G            1\nBlack Eyed Peas    1\nBTS                1\nCardi B            1\nAriana Grande      1\nTones And I        1\n24kGoldn           1\nJP Saxe            1\nName: artist, dtype: int64"
     },
     "execution_count": 109,
     "metadata": {},
     "output_type": "execute_result"
    }
   ],
   "source": [
    "df[\"artist\"].value_counts()"
   ],
   "metadata": {
    "collapsed": false,
    "pycharm": {
     "name": "#%%\n"
    }
   }
  },
  {
   "cell_type": "markdown",
   "source": [
    "3 popular songs in one ablum. Also position from 4, 31, 48"
   ],
   "metadata": {
    "collapsed": false
   }
  },
  {
   "cell_type": "markdown",
   "source": [
    "## How many artists in total have their songs in the top 50?"
   ],
   "metadata": {
    "collapsed": false
   }
  },
  {
   "cell_type": "code",
   "execution_count": 67,
   "outputs": [
    {
     "data": {
      "text/plain": "40"
     },
     "execution_count": 67,
     "metadata": {},
     "output_type": "execute_result"
    }
   ],
   "source": [
    "df[\"artist\"].nunique()"
   ],
   "metadata": {
    "collapsed": false,
    "pycharm": {
     "name": "#%%\n"
    }
   }
  },
  {
   "cell_type": "markdown",
   "source": [
    "## Are there any albums that have more than 1 popular track? If yes, which and how many?"
   ],
   "metadata": {
    "collapsed": false
   }
  },
  {
   "cell_type": "code",
   "execution_count": 68,
   "outputs": [],
   "source": [
    "album_with_more_than_one_popular_song = df[\"album\"].value_counts().loc[lambda x: x>1].index"
   ],
   "metadata": {
    "collapsed": false,
    "pycharm": {
     "name": "#%%\n"
    }
   }
  },
  {
   "cell_type": "code",
   "execution_count": 69,
   "outputs": [
    {
     "data": {
      "text/plain": "           artist                 album  \\\n4        Dua Lipa      Future Nostalgia   \n31       Dua Lipa      Future Nostalgia   \n48       Dua Lipa      Future Nostalgia   \n6    Harry Styles             Fine Line   \n21   Harry Styles             Fine Line   \n14  Justin Bieber               Changes   \n30  Justin Bieber               Changes   \n12    Post Malone  Hollywood's Bleeding   \n37    Post Malone  Hollywood's Bleeding   \n\n                                       track_name  \n4                                 Don't Start Now  \n31                                 Break My Heart  \n48                                       Physical  \n6                                Watermelon Sugar  \n21                                      Adore You  \n14                       Intentions (feat. Quavo)  \n30                                          Yummy  \n12                                        Circles  \n37  Sunflower - Spider-Man: Into the Spider-Verse  ",
      "text/html": "<div>\n<style scoped>\n    .dataframe tbody tr th:only-of-type {\n        vertical-align: middle;\n    }\n\n    .dataframe tbody tr th {\n        vertical-align: top;\n    }\n\n    .dataframe thead th {\n        text-align: right;\n    }\n</style>\n<table border=\"1\" class=\"dataframe\">\n  <thead>\n    <tr style=\"text-align: right;\">\n      <th></th>\n      <th>artist</th>\n      <th>album</th>\n      <th>track_name</th>\n    </tr>\n  </thead>\n  <tbody>\n    <tr>\n      <th>4</th>\n      <td>Dua Lipa</td>\n      <td>Future Nostalgia</td>\n      <td>Don't Start Now</td>\n    </tr>\n    <tr>\n      <th>31</th>\n      <td>Dua Lipa</td>\n      <td>Future Nostalgia</td>\n      <td>Break My Heart</td>\n    </tr>\n    <tr>\n      <th>48</th>\n      <td>Dua Lipa</td>\n      <td>Future Nostalgia</td>\n      <td>Physical</td>\n    </tr>\n    <tr>\n      <th>6</th>\n      <td>Harry Styles</td>\n      <td>Fine Line</td>\n      <td>Watermelon Sugar</td>\n    </tr>\n    <tr>\n      <th>21</th>\n      <td>Harry Styles</td>\n      <td>Fine Line</td>\n      <td>Adore You</td>\n    </tr>\n    <tr>\n      <th>14</th>\n      <td>Justin Bieber</td>\n      <td>Changes</td>\n      <td>Intentions (feat. Quavo)</td>\n    </tr>\n    <tr>\n      <th>30</th>\n      <td>Justin Bieber</td>\n      <td>Changes</td>\n      <td>Yummy</td>\n    </tr>\n    <tr>\n      <th>12</th>\n      <td>Post Malone</td>\n      <td>Hollywood's Bleeding</td>\n      <td>Circles</td>\n    </tr>\n    <tr>\n      <th>37</th>\n      <td>Post Malone</td>\n      <td>Hollywood's Bleeding</td>\n      <td>Sunflower - Spider-Man: Into the Spider-Verse</td>\n    </tr>\n  </tbody>\n</table>\n</div>"
     },
     "execution_count": 69,
     "metadata": {},
     "output_type": "execute_result"
    }
   ],
   "source": [
    "album_popular_songs = df.loc[df[\"album\"].isin(album_with_more_than_one_popular_song)].sort_values(\"album\", ascending=True)\n",
    "album_popular_songs[[\"artist\",\"album\",\"track_name\"]].sort_values(\"artist\", ascending=True)"
   ],
   "metadata": {
    "collapsed": false,
    "pycharm": {
     "name": "#%%\n"
    }
   }
  },
  {
   "cell_type": "code",
   "execution_count": 70,
   "outputs": [
    {
     "data": {
      "text/plain": "4"
     },
     "execution_count": 70,
     "metadata": {},
     "output_type": "execute_result"
    }
   ],
   "source": [
    "len(album_with_more_than_one_popular_song)"
   ],
   "metadata": {
    "collapsed": false,
    "pycharm": {
     "name": "#%%\n"
    }
   }
  },
  {
   "cell_type": "markdown",
   "source": [
    "## Which tracks have their danceability score above 0.7?"
   ],
   "metadata": {
    "collapsed": false
   }
  },
  {
   "cell_type": "code",
   "execution_count": 71,
   "outputs": [
    {
     "data": {
      "text/plain": "             artist                                     track_name  \\\n27          Cardi B                WAP (feat. Megan Thee Stallion)   \n2       Roddy Ricch                                        The Box   \n39           Regard                                        Ride It   \n28         Surfaces                                    Sunday Best   \n33            BENEE               Supalonely (feat. Gus Dapperton)   \n40     Travis Scott                                     goosebumps   \n49     Travis Scott                                     SICKO MODE   \n15            Drake                                   Toosie Slide   \n1       Tones And I                                   Dance Monkey   \n29           Eminem                    Godzilla (feat. Juice WRLD)   \n14    Justin Bieber                       Intentions (feat. Quavo)   \n10          KAROL G                                           Tusa   \n19           Future                     Life Is Good (feat. Drake)   \n4          Dua Lipa                                Don't Start Now   \n22            Topic                                    Breaking Me   \n17         Doja Cat                                         Say So   \n3         SAINt JHN                          Roses - Imanbek Remix   \n8     Trevor Daniel                                        Falling   \n38           Maluma                                          Hawái   \n13        Lil Mosey                                Blueberry Faygo   \n20        Jawsh 685               Savage Love (Laxed - Siren Beat)   \n18         Maroon 5                                       Memories   \n25     Shawn Mendes                                       Señorita   \n37      Post Malone  Sunflower - Spider-Man: Into the Spider-Verse   \n32              BTS                                       Dynamite   \n5            DaBaby                   ROCKSTAR (feat. Roddy Ricch)   \n31         Dua Lipa                                 Break My Heart   \n7             Powfu               death bed (coffee for your head)   \n41  Black Eyed Peas                      RITMO (Bad Boys For Life)   \n42       THE SCOTTS                                     THE SCOTTS   \n24    Billie Eilish                            everything i wanted   \n26    Billie Eilish                                        bad guy   \n\n    danceability  \n27         0.935  \n2          0.896  \n39         0.880  \n28         0.878  \n33         0.862  \n40         0.841  \n49         0.834  \n15         0.830  \n1          0.825  \n29         0.808  \n14         0.806  \n10         0.803  \n19         0.795  \n4          0.793  \n22         0.789  \n17         0.787  \n3          0.785  \n8          0.784  \n38         0.783  \n13         0.774  \n20         0.767  \n18         0.764  \n25         0.759  \n37         0.755  \n32         0.746  \n5          0.746  \n31         0.730  \n7          0.726  \n41         0.723  \n42         0.716  \n24         0.704  \n26         0.701  ",
      "text/html": "<div>\n<style scoped>\n    .dataframe tbody tr th:only-of-type {\n        vertical-align: middle;\n    }\n\n    .dataframe tbody tr th {\n        vertical-align: top;\n    }\n\n    .dataframe thead th {\n        text-align: right;\n    }\n</style>\n<table border=\"1\" class=\"dataframe\">\n  <thead>\n    <tr style=\"text-align: right;\">\n      <th></th>\n      <th>artist</th>\n      <th>track_name</th>\n      <th>danceability</th>\n    </tr>\n  </thead>\n  <tbody>\n    <tr>\n      <th>27</th>\n      <td>Cardi B</td>\n      <td>WAP (feat. Megan Thee Stallion)</td>\n      <td>0.935</td>\n    </tr>\n    <tr>\n      <th>2</th>\n      <td>Roddy Ricch</td>\n      <td>The Box</td>\n      <td>0.896</td>\n    </tr>\n    <tr>\n      <th>39</th>\n      <td>Regard</td>\n      <td>Ride It</td>\n      <td>0.880</td>\n    </tr>\n    <tr>\n      <th>28</th>\n      <td>Surfaces</td>\n      <td>Sunday Best</td>\n      <td>0.878</td>\n    </tr>\n    <tr>\n      <th>33</th>\n      <td>BENEE</td>\n      <td>Supalonely (feat. Gus Dapperton)</td>\n      <td>0.862</td>\n    </tr>\n    <tr>\n      <th>40</th>\n      <td>Travis Scott</td>\n      <td>goosebumps</td>\n      <td>0.841</td>\n    </tr>\n    <tr>\n      <th>49</th>\n      <td>Travis Scott</td>\n      <td>SICKO MODE</td>\n      <td>0.834</td>\n    </tr>\n    <tr>\n      <th>15</th>\n      <td>Drake</td>\n      <td>Toosie Slide</td>\n      <td>0.830</td>\n    </tr>\n    <tr>\n      <th>1</th>\n      <td>Tones And I</td>\n      <td>Dance Monkey</td>\n      <td>0.825</td>\n    </tr>\n    <tr>\n      <th>29</th>\n      <td>Eminem</td>\n      <td>Godzilla (feat. Juice WRLD)</td>\n      <td>0.808</td>\n    </tr>\n    <tr>\n      <th>14</th>\n      <td>Justin Bieber</td>\n      <td>Intentions (feat. Quavo)</td>\n      <td>0.806</td>\n    </tr>\n    <tr>\n      <th>10</th>\n      <td>KAROL G</td>\n      <td>Tusa</td>\n      <td>0.803</td>\n    </tr>\n    <tr>\n      <th>19</th>\n      <td>Future</td>\n      <td>Life Is Good (feat. Drake)</td>\n      <td>0.795</td>\n    </tr>\n    <tr>\n      <th>4</th>\n      <td>Dua Lipa</td>\n      <td>Don't Start Now</td>\n      <td>0.793</td>\n    </tr>\n    <tr>\n      <th>22</th>\n      <td>Topic</td>\n      <td>Breaking Me</td>\n      <td>0.789</td>\n    </tr>\n    <tr>\n      <th>17</th>\n      <td>Doja Cat</td>\n      <td>Say So</td>\n      <td>0.787</td>\n    </tr>\n    <tr>\n      <th>3</th>\n      <td>SAINt JHN</td>\n      <td>Roses - Imanbek Remix</td>\n      <td>0.785</td>\n    </tr>\n    <tr>\n      <th>8</th>\n      <td>Trevor Daniel</td>\n      <td>Falling</td>\n      <td>0.784</td>\n    </tr>\n    <tr>\n      <th>38</th>\n      <td>Maluma</td>\n      <td>Hawái</td>\n      <td>0.783</td>\n    </tr>\n    <tr>\n      <th>13</th>\n      <td>Lil Mosey</td>\n      <td>Blueberry Faygo</td>\n      <td>0.774</td>\n    </tr>\n    <tr>\n      <th>20</th>\n      <td>Jawsh 685</td>\n      <td>Savage Love (Laxed - Siren Beat)</td>\n      <td>0.767</td>\n    </tr>\n    <tr>\n      <th>18</th>\n      <td>Maroon 5</td>\n      <td>Memories</td>\n      <td>0.764</td>\n    </tr>\n    <tr>\n      <th>25</th>\n      <td>Shawn Mendes</td>\n      <td>Señorita</td>\n      <td>0.759</td>\n    </tr>\n    <tr>\n      <th>37</th>\n      <td>Post Malone</td>\n      <td>Sunflower - Spider-Man: Into the Spider-Verse</td>\n      <td>0.755</td>\n    </tr>\n    <tr>\n      <th>32</th>\n      <td>BTS</td>\n      <td>Dynamite</td>\n      <td>0.746</td>\n    </tr>\n    <tr>\n      <th>5</th>\n      <td>DaBaby</td>\n      <td>ROCKSTAR (feat. Roddy Ricch)</td>\n      <td>0.746</td>\n    </tr>\n    <tr>\n      <th>31</th>\n      <td>Dua Lipa</td>\n      <td>Break My Heart</td>\n      <td>0.730</td>\n    </tr>\n    <tr>\n      <th>7</th>\n      <td>Powfu</td>\n      <td>death bed (coffee for your head)</td>\n      <td>0.726</td>\n    </tr>\n    <tr>\n      <th>41</th>\n      <td>Black Eyed Peas</td>\n      <td>RITMO (Bad Boys For Life)</td>\n      <td>0.723</td>\n    </tr>\n    <tr>\n      <th>42</th>\n      <td>THE SCOTTS</td>\n      <td>THE SCOTTS</td>\n      <td>0.716</td>\n    </tr>\n    <tr>\n      <th>24</th>\n      <td>Billie Eilish</td>\n      <td>everything i wanted</td>\n      <td>0.704</td>\n    </tr>\n    <tr>\n      <th>26</th>\n      <td>Billie Eilish</td>\n      <td>bad guy</td>\n      <td>0.701</td>\n    </tr>\n  </tbody>\n</table>\n</div>"
     },
     "execution_count": 71,
     "metadata": {},
     "output_type": "execute_result"
    }
   ],
   "source": [
    "danceability = df[df[\"danceability\"] > 0.7]\n",
    "danceability[[\"artist\",\"track_name\",\"danceability\"]].sort_values(\"danceability\", ascending=False)"
   ],
   "metadata": {
    "collapsed": false,
    "pycharm": {
     "name": "#%%\n"
    }
   }
  },
  {
   "cell_type": "code",
   "execution_count": 72,
   "outputs": [
    {
     "data": {
      "text/plain": "32"
     },
     "execution_count": 72,
     "metadata": {},
     "output_type": "execute_result"
    }
   ],
   "source": [
    "len(danceability)"
   ],
   "metadata": {
    "collapsed": false,
    "pycharm": {
     "name": "#%%\n"
    }
   }
  },
  {
   "cell_type": "markdown",
   "source": [
    "## Which tracks have their danceability score below 0.4?"
   ],
   "metadata": {
    "collapsed": false
   }
  },
  {
   "cell_type": "code",
   "execution_count": 73,
   "outputs": [
    {
     "data": {
      "text/plain": "           artist            track_name  danceability\n44  Billie Eilish  lovely (with Khalid)         0.351",
      "text/html": "<div>\n<style scoped>\n    .dataframe tbody tr th:only-of-type {\n        vertical-align: middle;\n    }\n\n    .dataframe tbody tr th {\n        vertical-align: top;\n    }\n\n    .dataframe thead th {\n        text-align: right;\n    }\n</style>\n<table border=\"1\" class=\"dataframe\">\n  <thead>\n    <tr style=\"text-align: right;\">\n      <th></th>\n      <th>artist</th>\n      <th>track_name</th>\n      <th>danceability</th>\n    </tr>\n  </thead>\n  <tbody>\n    <tr>\n      <th>44</th>\n      <td>Billie Eilish</td>\n      <td>lovely (with Khalid)</td>\n      <td>0.351</td>\n    </tr>\n  </tbody>\n</table>\n</div>"
     },
     "execution_count": 73,
     "metadata": {},
     "output_type": "execute_result"
    }
   ],
   "source": [
    "danceability = df[df[\"danceability\"] < 0.4]\n",
    "danceability[[\"artist\",\"track_name\",\"danceability\"]].sort_values(\"danceability\", ascending=True)"
   ],
   "metadata": {
    "collapsed": false,
    "pycharm": {
     "name": "#%%\n"
    }
   }
  },
  {
   "cell_type": "code",
   "execution_count": 74,
   "outputs": [
    {
     "data": {
      "text/plain": "1"
     },
     "execution_count": 74,
     "metadata": {},
     "output_type": "execute_result"
    }
   ],
   "source": [
    "len(danceability)"
   ],
   "metadata": {
    "collapsed": false,
    "pycharm": {
     "name": "#%%\n"
    }
   }
  },
  {
   "cell_type": "markdown",
   "source": [
    "## Which tracks have their loudness above -5?"
   ],
   "metadata": {
    "collapsed": false
   }
  },
  {
   "cell_type": "code",
   "execution_count": 75,
   "outputs": [
    {
     "data": {
      "text/plain": "           artist                                     track_name  loudness\n16  Lewis Capaldi                                  Before You Go    -4.858\n33          BENEE               Supalonely (feat. Gus Dapperton)    -4.746\n17       Doja Cat                                         Say So    -4.577\n4        Dua Lipa                                Don't Start Now    -4.521\n32            BTS                                       Dynamite    -4.410\n37    Post Malone  Sunflower - Spider-Man: Into the Spider-Verse    -4.368\n39         Regard                                        Ride It    -4.258\n6    Harry Styles                               Watermelon Sugar    -4.209\n43      Bad Bunny                                        Safaera    -4.074\n35      Lady Gaga                Rain On Me (with Ariana Grande)    -3.764\n48       Dua Lipa                                       Physical    -3.756\n49   Travis Scott                                     SICKO MODE    -3.714\n21   Harry Styles                                      Adore You    -3.675\n23       24kGoldn                         Mood (feat. iann dior)    -3.558\n12    Post Malone                                        Circles    -3.497\n38         Maluma                                          Hawái    -3.454\n31       Dua Lipa                                 Break My Heart    -3.434\n40   Travis Scott                                     goosebumps    -3.370\n10        KAROL G                                           Tusa    -3.280",
      "text/html": "<div>\n<style scoped>\n    .dataframe tbody tr th:only-of-type {\n        vertical-align: middle;\n    }\n\n    .dataframe tbody tr th {\n        vertical-align: top;\n    }\n\n    .dataframe thead th {\n        text-align: right;\n    }\n</style>\n<table border=\"1\" class=\"dataframe\">\n  <thead>\n    <tr style=\"text-align: right;\">\n      <th></th>\n      <th>artist</th>\n      <th>track_name</th>\n      <th>loudness</th>\n    </tr>\n  </thead>\n  <tbody>\n    <tr>\n      <th>16</th>\n      <td>Lewis Capaldi</td>\n      <td>Before You Go</td>\n      <td>-4.858</td>\n    </tr>\n    <tr>\n      <th>33</th>\n      <td>BENEE</td>\n      <td>Supalonely (feat. Gus Dapperton)</td>\n      <td>-4.746</td>\n    </tr>\n    <tr>\n      <th>17</th>\n      <td>Doja Cat</td>\n      <td>Say So</td>\n      <td>-4.577</td>\n    </tr>\n    <tr>\n      <th>4</th>\n      <td>Dua Lipa</td>\n      <td>Don't Start Now</td>\n      <td>-4.521</td>\n    </tr>\n    <tr>\n      <th>32</th>\n      <td>BTS</td>\n      <td>Dynamite</td>\n      <td>-4.410</td>\n    </tr>\n    <tr>\n      <th>37</th>\n      <td>Post Malone</td>\n      <td>Sunflower - Spider-Man: Into the Spider-Verse</td>\n      <td>-4.368</td>\n    </tr>\n    <tr>\n      <th>39</th>\n      <td>Regard</td>\n      <td>Ride It</td>\n      <td>-4.258</td>\n    </tr>\n    <tr>\n      <th>6</th>\n      <td>Harry Styles</td>\n      <td>Watermelon Sugar</td>\n      <td>-4.209</td>\n    </tr>\n    <tr>\n      <th>43</th>\n      <td>Bad Bunny</td>\n      <td>Safaera</td>\n      <td>-4.074</td>\n    </tr>\n    <tr>\n      <th>35</th>\n      <td>Lady Gaga</td>\n      <td>Rain On Me (with Ariana Grande)</td>\n      <td>-3.764</td>\n    </tr>\n    <tr>\n      <th>48</th>\n      <td>Dua Lipa</td>\n      <td>Physical</td>\n      <td>-3.756</td>\n    </tr>\n    <tr>\n      <th>49</th>\n      <td>Travis Scott</td>\n      <td>SICKO MODE</td>\n      <td>-3.714</td>\n    </tr>\n    <tr>\n      <th>21</th>\n      <td>Harry Styles</td>\n      <td>Adore You</td>\n      <td>-3.675</td>\n    </tr>\n    <tr>\n      <th>23</th>\n      <td>24kGoldn</td>\n      <td>Mood (feat. iann dior)</td>\n      <td>-3.558</td>\n    </tr>\n    <tr>\n      <th>12</th>\n      <td>Post Malone</td>\n      <td>Circles</td>\n      <td>-3.497</td>\n    </tr>\n    <tr>\n      <th>38</th>\n      <td>Maluma</td>\n      <td>Hawái</td>\n      <td>-3.454</td>\n    </tr>\n    <tr>\n      <th>31</th>\n      <td>Dua Lipa</td>\n      <td>Break My Heart</td>\n      <td>-3.434</td>\n    </tr>\n    <tr>\n      <th>40</th>\n      <td>Travis Scott</td>\n      <td>goosebumps</td>\n      <td>-3.370</td>\n    </tr>\n    <tr>\n      <th>10</th>\n      <td>KAROL G</td>\n      <td>Tusa</td>\n      <td>-3.280</td>\n    </tr>\n  </tbody>\n</table>\n</div>"
     },
     "execution_count": 75,
     "metadata": {},
     "output_type": "execute_result"
    }
   ],
   "source": [
    "above_five = df[df[\"loudness\"] > -5]\n",
    "above_five[[\"artist\",\"track_name\",\"loudness\"]].sort_values(\"loudness\", ascending=True)"
   ],
   "metadata": {
    "collapsed": false,
    "pycharm": {
     "name": "#%%\n"
    }
   }
  },
  {
   "cell_type": "markdown",
   "source": [
    "## Which tracks have their loudness below -8?"
   ],
   "metadata": {
    "collapsed": false
   }
  },
  {
   "cell_type": "code",
   "execution_count": 76,
   "outputs": [
    {
     "data": {
      "text/plain": "           artist                                      track_name  loudness\n24  Billie Eilish                             everything i wanted   -14.454\n26  Billie Eilish                                         bad guy   -10.965\n44  Billie Eilish                            lovely (with Khalid)   -10.109\n47        JP Saxe  If the World Was Ending - feat. Julia Michaels   -10.086\n15          Drake                                    Toosie Slide    -8.820\n7           Powfu                death bed (coffee for your head)    -8.765\n36   Travis Scott                             HIGHEST IN THE ROOM    -8.764\n8   Trevor Daniel                                         Falling    -8.756\n20      Jawsh 685                Savage Love (Laxed - Siren Beat)    -8.520",
      "text/html": "<div>\n<style scoped>\n    .dataframe tbody tr th:only-of-type {\n        vertical-align: middle;\n    }\n\n    .dataframe tbody tr th {\n        vertical-align: top;\n    }\n\n    .dataframe thead th {\n        text-align: right;\n    }\n</style>\n<table border=\"1\" class=\"dataframe\">\n  <thead>\n    <tr style=\"text-align: right;\">\n      <th></th>\n      <th>artist</th>\n      <th>track_name</th>\n      <th>loudness</th>\n    </tr>\n  </thead>\n  <tbody>\n    <tr>\n      <th>24</th>\n      <td>Billie Eilish</td>\n      <td>everything i wanted</td>\n      <td>-14.454</td>\n    </tr>\n    <tr>\n      <th>26</th>\n      <td>Billie Eilish</td>\n      <td>bad guy</td>\n      <td>-10.965</td>\n    </tr>\n    <tr>\n      <th>44</th>\n      <td>Billie Eilish</td>\n      <td>lovely (with Khalid)</td>\n      <td>-10.109</td>\n    </tr>\n    <tr>\n      <th>47</th>\n      <td>JP Saxe</td>\n      <td>If the World Was Ending - feat. Julia Michaels</td>\n      <td>-10.086</td>\n    </tr>\n    <tr>\n      <th>15</th>\n      <td>Drake</td>\n      <td>Toosie Slide</td>\n      <td>-8.820</td>\n    </tr>\n    <tr>\n      <th>7</th>\n      <td>Powfu</td>\n      <td>death bed (coffee for your head)</td>\n      <td>-8.765</td>\n    </tr>\n    <tr>\n      <th>36</th>\n      <td>Travis Scott</td>\n      <td>HIGHEST IN THE ROOM</td>\n      <td>-8.764</td>\n    </tr>\n    <tr>\n      <th>8</th>\n      <td>Trevor Daniel</td>\n      <td>Falling</td>\n      <td>-8.756</td>\n    </tr>\n    <tr>\n      <th>20</th>\n      <td>Jawsh 685</td>\n      <td>Savage Love (Laxed - Siren Beat)</td>\n      <td>-8.520</td>\n    </tr>\n  </tbody>\n</table>\n</div>"
     },
     "execution_count": 76,
     "metadata": {},
     "output_type": "execute_result"
    }
   ],
   "source": [
    "below_eight = df[df[\"loudness\"] < -8]\n",
    "below_eight[[\"artist\",\"track_name\",\"loudness\"]].sort_values(\"loudness\", ascending=True)"
   ],
   "metadata": {
    "collapsed": false,
    "pycharm": {
     "name": "#%%\n"
    }
   }
  },
  {
   "cell_type": "markdown",
   "source": [
    "## Which track is the longest?"
   ],
   "metadata": {
    "collapsed": false
   }
  },
  {
   "cell_type": "code",
   "execution_count": 77,
   "outputs": [],
   "source": [
    "def convert_from_ms(milliseconds):\n",
    "    seconds, milliseconds = divmod(milliseconds,1000)\n",
    "    minutes, seconds = divmod(seconds, 60)\n",
    "    seconds = seconds + milliseconds/1000\n",
    "    return (f\"{minutes} minutes : {round(seconds)} seconds\")"
   ],
   "metadata": {
    "collapsed": false,
    "pycharm": {
     "name": "#%%\n"
    }
   }
  },
  {
   "cell_type": "code",
   "execution_count": 78,
   "outputs": [
    {
     "data": {
      "text/plain": "'5 minutes : 13 seconds'"
     },
     "execution_count": 78,
     "metadata": {},
     "output_type": "execute_result"
    }
   ],
   "source": [
    "convert_from_ms(df[\"duration_ms\"].max())"
   ],
   "metadata": {
    "collapsed": false,
    "pycharm": {
     "name": "#%%\n"
    }
   }
  },
  {
   "cell_type": "markdown",
   "source": [
    "## Which track is the shortest?"
   ],
   "metadata": {
    "collapsed": false
   }
  },
  {
   "cell_type": "code",
   "execution_count": 79,
   "outputs": [
    {
     "data": {
      "text/plain": "'2 minutes : 21 seconds'"
     },
     "execution_count": 79,
     "metadata": {},
     "output_type": "execute_result"
    }
   ],
   "source": [
    "convert_from_ms(df[\"duration_ms\"].min())"
   ],
   "metadata": {
    "collapsed": false,
    "pycharm": {
     "name": "#%%\n"
    }
   }
  },
  {
   "cell_type": "markdown",
   "source": [
    "## Which genre is the most popular?"
   ],
   "metadata": {
    "collapsed": false
   }
  },
  {
   "cell_type": "code",
   "execution_count": 80,
   "outputs": [
    {
     "data": {
      "text/plain": "'Pop'"
     },
     "execution_count": 80,
     "metadata": {},
     "output_type": "execute_result"
    }
   ],
   "source": [
    "df[\"genre\"].value_counts().idxmax()"
   ],
   "metadata": {
    "collapsed": false,
    "pycharm": {
     "name": "#%%\n"
    }
   }
  },
  {
   "cell_type": "markdown",
   "source": [
    "## Which genres have just one song on the top 50?"
   ],
   "metadata": {
    "collapsed": false
   }
  },
  {
   "cell_type": "code",
   "execution_count": 81,
   "outputs": [
    {
     "data": {
      "text/plain": "Dreampop/Hip-Hop/R&B                  1\nDance-pop/Disco                       1\nAlternative/reggaeton/experimental    1\nHip-Hop/Trap                          1\nChamber pop                           1\nPop rap                               1\nPop/Soft Rock                         1\nDisco-pop                             1\nNu-disco                              1\nR&B/Hip-Hop alternative               1\nName: genre, dtype: int64"
     },
     "execution_count": 81,
     "metadata": {},
     "output_type": "execute_result"
    }
   ],
   "source": [
    "genre_counts = df[\"genre\"].value_counts()\n",
    "genre_counts[genre_counts == 1]"
   ],
   "metadata": {
    "collapsed": false,
    "pycharm": {
     "name": "#%%\n"
    }
   }
  },
  {
   "cell_type": "markdown",
   "source": [
    "## How many genres in total are represented in the top 50?"
   ],
   "metadata": {
    "collapsed": false
   }
  },
  {
   "cell_type": "code",
   "execution_count": 82,
   "outputs": [
    {
     "data": {
      "text/plain": "16"
     },
     "execution_count": 82,
     "metadata": {},
     "output_type": "execute_result"
    }
   ],
   "source": [
    "df[\"genre\"].nunique()"
   ],
   "metadata": {
    "collapsed": false,
    "pycharm": {
     "name": "#%%\n"
    }
   }
  },
  {
   "cell_type": "markdown",
   "source": [
    "## Which features are strongly positively correlated?"
   ],
   "metadata": {
    "collapsed": false
   }
  },
  {
   "cell_type": "code",
   "execution_count": 89,
   "outputs": [],
   "source": [
    "df_copy = df.copy()"
   ],
   "metadata": {
    "collapsed": false,
    "pycharm": {
     "name": "#%%\n"
    }
   }
  },
  {
   "cell_type": "code",
   "execution_count": 90,
   "outputs": [
    {
     "ename": "KeyError",
     "evalue": "'key'",
     "output_type": "error",
     "traceback": [
      "\u001B[0;31m---------------------------------------------------------------------------\u001B[0m",
      "\u001B[0;31mKeyError\u001B[0m                                  Traceback (most recent call last)",
      "\u001B[0;32m~/Library/Application Support/JetBrains/JetBrainsDS2021.1/projects/workspace/venv/lib/python3.9/site-packages/pandas/core/indexes/base.py\u001B[0m in \u001B[0;36mget_loc\u001B[0;34m(self, key, method, tolerance)\u001B[0m\n\u001B[1;32m   3079\u001B[0m             \u001B[0;32mtry\u001B[0m\u001B[0;34m:\u001B[0m\u001B[0;34m\u001B[0m\u001B[0;34m\u001B[0m\u001B[0m\n\u001B[0;32m-> 3080\u001B[0;31m                 \u001B[0;32mreturn\u001B[0m \u001B[0mself\u001B[0m\u001B[0;34m.\u001B[0m\u001B[0m_engine\u001B[0m\u001B[0;34m.\u001B[0m\u001B[0mget_loc\u001B[0m\u001B[0;34m(\u001B[0m\u001B[0mcasted_key\u001B[0m\u001B[0;34m)\u001B[0m\u001B[0;34m\u001B[0m\u001B[0;34m\u001B[0m\u001B[0m\n\u001B[0m\u001B[1;32m   3081\u001B[0m             \u001B[0;32mexcept\u001B[0m \u001B[0mKeyError\u001B[0m \u001B[0;32mas\u001B[0m \u001B[0merr\u001B[0m\u001B[0;34m:\u001B[0m\u001B[0;34m\u001B[0m\u001B[0;34m\u001B[0m\u001B[0m\n",
      "\u001B[0;32mpandas/_libs/index.pyx\u001B[0m in \u001B[0;36mpandas._libs.index.IndexEngine.get_loc\u001B[0;34m()\u001B[0m\n",
      "\u001B[0;32mpandas/_libs/index.pyx\u001B[0m in \u001B[0;36mpandas._libs.index.IndexEngine.get_loc\u001B[0;34m()\u001B[0m\n",
      "\u001B[0;32mpandas/_libs/hashtable_class_helper.pxi\u001B[0m in \u001B[0;36mpandas._libs.hashtable.PyObjectHashTable.get_item\u001B[0;34m()\u001B[0m\n",
      "\u001B[0;32mpandas/_libs/hashtable_class_helper.pxi\u001B[0m in \u001B[0;36mpandas._libs.hashtable.PyObjectHashTable.get_item\u001B[0;34m()\u001B[0m\n",
      "\u001B[0;31mKeyError\u001B[0m: 'key'",
      "\nThe above exception was the direct cause of the following exception:\n",
      "\u001B[0;31mKeyError\u001B[0m                                  Traceback (most recent call last)",
      "\u001B[0;32m<ipython-input-90-9b0349ce3771>\u001B[0m in \u001B[0;36m<module>\u001B[0;34m\u001B[0m\n\u001B[0;32m----> 1\u001B[0;31m \u001B[0mdf_copy\u001B[0m \u001B[0;34m=\u001B[0m \u001B[0mdf\u001B[0m\u001B[0;34m.\u001B[0m\u001B[0mpop\u001B[0m\u001B[0;34m(\u001B[0m\u001B[0;34m\"key\"\u001B[0m\u001B[0;34m)\u001B[0m\u001B[0;34m\u001B[0m\u001B[0;34m\u001B[0m\u001B[0m\n\u001B[0m",
      "\u001B[0;32m~/Library/Application Support/JetBrains/JetBrainsDS2021.1/projects/workspace/venv/lib/python3.9/site-packages/pandas/core/frame.py\u001B[0m in \u001B[0;36mpop\u001B[0;34m(self, item)\u001B[0m\n\u001B[1;32m   4510\u001B[0m         \u001B[0;36m3\u001B[0m  \u001B[0mmonkey\u001B[0m        \u001B[0mNaN\u001B[0m\u001B[0;34m\u001B[0m\u001B[0;34m\u001B[0m\u001B[0m\n\u001B[1;32m   4511\u001B[0m         \"\"\"\n\u001B[0;32m-> 4512\u001B[0;31m         \u001B[0;32mreturn\u001B[0m \u001B[0msuper\u001B[0m\u001B[0;34m(\u001B[0m\u001B[0;34m)\u001B[0m\u001B[0;34m.\u001B[0m\u001B[0mpop\u001B[0m\u001B[0;34m(\u001B[0m\u001B[0mitem\u001B[0m\u001B[0;34m=\u001B[0m\u001B[0mitem\u001B[0m\u001B[0;34m)\u001B[0m\u001B[0;34m\u001B[0m\u001B[0;34m\u001B[0m\u001B[0m\n\u001B[0m\u001B[1;32m   4513\u001B[0m \u001B[0;34m\u001B[0m\u001B[0m\n\u001B[1;32m   4514\u001B[0m     \u001B[0;34m@\u001B[0m\u001B[0mdoc\u001B[0m\u001B[0;34m(\u001B[0m\u001B[0mNDFrame\u001B[0m\u001B[0;34m.\u001B[0m\u001B[0mreplace\u001B[0m\u001B[0;34m,\u001B[0m \u001B[0;34m**\u001B[0m\u001B[0m_shared_doc_kwargs\u001B[0m\u001B[0;34m)\u001B[0m\u001B[0;34m\u001B[0m\u001B[0;34m\u001B[0m\u001B[0m\n",
      "\u001B[0;32m~/Library/Application Support/JetBrains/JetBrainsDS2021.1/projects/workspace/venv/lib/python3.9/site-packages/pandas/core/generic.py\u001B[0m in \u001B[0;36mpop\u001B[0;34m(self, item)\u001B[0m\n\u001B[1;32m    767\u001B[0m \u001B[0;34m\u001B[0m\u001B[0m\n\u001B[1;32m    768\u001B[0m     \u001B[0;32mdef\u001B[0m \u001B[0mpop\u001B[0m\u001B[0;34m(\u001B[0m\u001B[0mself\u001B[0m\u001B[0;34m,\u001B[0m \u001B[0mitem\u001B[0m\u001B[0;34m:\u001B[0m \u001B[0mLabel\u001B[0m\u001B[0;34m)\u001B[0m \u001B[0;34m->\u001B[0m \u001B[0mUnion\u001B[0m\u001B[0;34m[\u001B[0m\u001B[0mSeries\u001B[0m\u001B[0;34m,\u001B[0m \u001B[0mAny\u001B[0m\u001B[0;34m]\u001B[0m\u001B[0;34m:\u001B[0m\u001B[0;34m\u001B[0m\u001B[0;34m\u001B[0m\u001B[0m\n\u001B[0;32m--> 769\u001B[0;31m         \u001B[0mresult\u001B[0m \u001B[0;34m=\u001B[0m \u001B[0mself\u001B[0m\u001B[0;34m[\u001B[0m\u001B[0mitem\u001B[0m\u001B[0;34m]\u001B[0m\u001B[0;34m\u001B[0m\u001B[0;34m\u001B[0m\u001B[0m\n\u001B[0m\u001B[1;32m    770\u001B[0m         \u001B[0;32mdel\u001B[0m \u001B[0mself\u001B[0m\u001B[0;34m[\u001B[0m\u001B[0mitem\u001B[0m\u001B[0;34m]\u001B[0m\u001B[0;34m\u001B[0m\u001B[0;34m\u001B[0m\u001B[0m\n\u001B[1;32m    771\u001B[0m         \u001B[0;32mif\u001B[0m \u001B[0mself\u001B[0m\u001B[0;34m.\u001B[0m\u001B[0mndim\u001B[0m \u001B[0;34m==\u001B[0m \u001B[0;36m2\u001B[0m\u001B[0;34m:\u001B[0m\u001B[0;34m\u001B[0m\u001B[0;34m\u001B[0m\u001B[0m\n",
      "\u001B[0;32m~/Library/Application Support/JetBrains/JetBrainsDS2021.1/projects/workspace/venv/lib/python3.9/site-packages/pandas/core/frame.py\u001B[0m in \u001B[0;36m__getitem__\u001B[0;34m(self, key)\u001B[0m\n\u001B[1;32m   3022\u001B[0m             \u001B[0;32mif\u001B[0m \u001B[0mself\u001B[0m\u001B[0;34m.\u001B[0m\u001B[0mcolumns\u001B[0m\u001B[0;34m.\u001B[0m\u001B[0mnlevels\u001B[0m \u001B[0;34m>\u001B[0m \u001B[0;36m1\u001B[0m\u001B[0;34m:\u001B[0m\u001B[0;34m\u001B[0m\u001B[0;34m\u001B[0m\u001B[0m\n\u001B[1;32m   3023\u001B[0m                 \u001B[0;32mreturn\u001B[0m \u001B[0mself\u001B[0m\u001B[0;34m.\u001B[0m\u001B[0m_getitem_multilevel\u001B[0m\u001B[0;34m(\u001B[0m\u001B[0mkey\u001B[0m\u001B[0;34m)\u001B[0m\u001B[0;34m\u001B[0m\u001B[0;34m\u001B[0m\u001B[0m\n\u001B[0;32m-> 3024\u001B[0;31m             \u001B[0mindexer\u001B[0m \u001B[0;34m=\u001B[0m \u001B[0mself\u001B[0m\u001B[0;34m.\u001B[0m\u001B[0mcolumns\u001B[0m\u001B[0;34m.\u001B[0m\u001B[0mget_loc\u001B[0m\u001B[0;34m(\u001B[0m\u001B[0mkey\u001B[0m\u001B[0;34m)\u001B[0m\u001B[0;34m\u001B[0m\u001B[0;34m\u001B[0m\u001B[0m\n\u001B[0m\u001B[1;32m   3025\u001B[0m             \u001B[0;32mif\u001B[0m \u001B[0mis_integer\u001B[0m\u001B[0;34m(\u001B[0m\u001B[0mindexer\u001B[0m\u001B[0;34m)\u001B[0m\u001B[0;34m:\u001B[0m\u001B[0;34m\u001B[0m\u001B[0;34m\u001B[0m\u001B[0m\n\u001B[1;32m   3026\u001B[0m                 \u001B[0mindexer\u001B[0m \u001B[0;34m=\u001B[0m \u001B[0;34m[\u001B[0m\u001B[0mindexer\u001B[0m\u001B[0;34m]\u001B[0m\u001B[0;34m\u001B[0m\u001B[0;34m\u001B[0m\u001B[0m\n",
      "\u001B[0;32m~/Library/Application Support/JetBrains/JetBrainsDS2021.1/projects/workspace/venv/lib/python3.9/site-packages/pandas/core/indexes/base.py\u001B[0m in \u001B[0;36mget_loc\u001B[0;34m(self, key, method, tolerance)\u001B[0m\n\u001B[1;32m   3080\u001B[0m                 \u001B[0;32mreturn\u001B[0m \u001B[0mself\u001B[0m\u001B[0;34m.\u001B[0m\u001B[0m_engine\u001B[0m\u001B[0;34m.\u001B[0m\u001B[0mget_loc\u001B[0m\u001B[0;34m(\u001B[0m\u001B[0mcasted_key\u001B[0m\u001B[0;34m)\u001B[0m\u001B[0;34m\u001B[0m\u001B[0;34m\u001B[0m\u001B[0m\n\u001B[1;32m   3081\u001B[0m             \u001B[0;32mexcept\u001B[0m \u001B[0mKeyError\u001B[0m \u001B[0;32mas\u001B[0m \u001B[0merr\u001B[0m\u001B[0;34m:\u001B[0m\u001B[0;34m\u001B[0m\u001B[0;34m\u001B[0m\u001B[0m\n\u001B[0;32m-> 3082\u001B[0;31m                 \u001B[0;32mraise\u001B[0m \u001B[0mKeyError\u001B[0m\u001B[0;34m(\u001B[0m\u001B[0mkey\u001B[0m\u001B[0;34m)\u001B[0m \u001B[0;32mfrom\u001B[0m \u001B[0merr\u001B[0m\u001B[0;34m\u001B[0m\u001B[0;34m\u001B[0m\u001B[0m\n\u001B[0m\u001B[1;32m   3083\u001B[0m \u001B[0;34m\u001B[0m\u001B[0m\n\u001B[1;32m   3084\u001B[0m         \u001B[0;32mif\u001B[0m \u001B[0mtolerance\u001B[0m \u001B[0;32mis\u001B[0m \u001B[0;32mnot\u001B[0m \u001B[0;32mNone\u001B[0m\u001B[0;34m:\u001B[0m\u001B[0;34m\u001B[0m\u001B[0;34m\u001B[0m\u001B[0m\n",
      "\u001B[0;31mKeyError\u001B[0m: 'key'"
     ]
    }
   ],
   "source": [
    "df_copy = df.pop(\"key\")"
   ],
   "metadata": {
    "collapsed": false,
    "pycharm": {
     "name": "#%%\n"
    }
   }
  },
  {
   "cell_type": "code",
   "execution_count": 91,
   "outputs": [
    {
     "data": {
      "text/plain": "        artist                                  album             track_name  \\\n0   The Weeknd                            After Hours        Blinding Lights   \n1  Tones And I                           Dance Monkey           Dance Monkey   \n2  Roddy Ricch  Please Excuse Me For Being Antisocial                The Box   \n3    SAINt JHN                  Roses (Imanbek Remix)  Roses - Imanbek Remix   \n4     Dua Lipa                       Future Nostalgia        Don't Start Now   \n\n                 track_id  energy  danceability  loudness  acousticness  \\\n0  0VjIjW4GlUZAMYd2vXMi3b   0.730         0.514    -5.934       0.00146   \n1  1rgnBhdG2JDFTbYkYRZAku   0.593         0.825    -6.401       0.68800   \n2  0nbXyq5TXYPCO7pr3N8S4I   0.586         0.896    -6.687       0.10400   \n3  2Wo6QQD1KMDWeFkkjLqwx5   0.721         0.785    -5.457       0.01490   \n4  3PfIrDoz19wz7qK7tYeu62   0.793         0.793    -4.521       0.01230   \n\n   speechiness  instrumentalness  liveness  valence    tempo  duration_ms  \\\n0       0.0598          0.000095    0.0897    0.334  171.005       200040   \n1       0.0988          0.000161    0.1700    0.540   98.078       209755   \n2       0.0559          0.000000    0.7900    0.642  116.971       196653   \n3       0.0506          0.004320    0.2850    0.894  121.962       176219   \n4       0.0830          0.000000    0.0951    0.679  123.950       183290   \n\n               genre  \n0           R&B/Soul  \n1  Alternative/Indie  \n2        Hip-Hop/Rap  \n3   Dance/Electronic  \n4           Nu-disco  ",
      "text/html": "<div>\n<style scoped>\n    .dataframe tbody tr th:only-of-type {\n        vertical-align: middle;\n    }\n\n    .dataframe tbody tr th {\n        vertical-align: top;\n    }\n\n    .dataframe thead th {\n        text-align: right;\n    }\n</style>\n<table border=\"1\" class=\"dataframe\">\n  <thead>\n    <tr style=\"text-align: right;\">\n      <th></th>\n      <th>artist</th>\n      <th>album</th>\n      <th>track_name</th>\n      <th>track_id</th>\n      <th>energy</th>\n      <th>danceability</th>\n      <th>loudness</th>\n      <th>acousticness</th>\n      <th>speechiness</th>\n      <th>instrumentalness</th>\n      <th>liveness</th>\n      <th>valence</th>\n      <th>tempo</th>\n      <th>duration_ms</th>\n      <th>genre</th>\n    </tr>\n  </thead>\n  <tbody>\n    <tr>\n      <th>0</th>\n      <td>The Weeknd</td>\n      <td>After Hours</td>\n      <td>Blinding Lights</td>\n      <td>0VjIjW4GlUZAMYd2vXMi3b</td>\n      <td>0.730</td>\n      <td>0.514</td>\n      <td>-5.934</td>\n      <td>0.00146</td>\n      <td>0.0598</td>\n      <td>0.000095</td>\n      <td>0.0897</td>\n      <td>0.334</td>\n      <td>171.005</td>\n      <td>200040</td>\n      <td>R&amp;B/Soul</td>\n    </tr>\n    <tr>\n      <th>1</th>\n      <td>Tones And I</td>\n      <td>Dance Monkey</td>\n      <td>Dance Monkey</td>\n      <td>1rgnBhdG2JDFTbYkYRZAku</td>\n      <td>0.593</td>\n      <td>0.825</td>\n      <td>-6.401</td>\n      <td>0.68800</td>\n      <td>0.0988</td>\n      <td>0.000161</td>\n      <td>0.1700</td>\n      <td>0.540</td>\n      <td>98.078</td>\n      <td>209755</td>\n      <td>Alternative/Indie</td>\n    </tr>\n    <tr>\n      <th>2</th>\n      <td>Roddy Ricch</td>\n      <td>Please Excuse Me For Being Antisocial</td>\n      <td>The Box</td>\n      <td>0nbXyq5TXYPCO7pr3N8S4I</td>\n      <td>0.586</td>\n      <td>0.896</td>\n      <td>-6.687</td>\n      <td>0.10400</td>\n      <td>0.0559</td>\n      <td>0.000000</td>\n      <td>0.7900</td>\n      <td>0.642</td>\n      <td>116.971</td>\n      <td>196653</td>\n      <td>Hip-Hop/Rap</td>\n    </tr>\n    <tr>\n      <th>3</th>\n      <td>SAINt JHN</td>\n      <td>Roses (Imanbek Remix)</td>\n      <td>Roses - Imanbek Remix</td>\n      <td>2Wo6QQD1KMDWeFkkjLqwx5</td>\n      <td>0.721</td>\n      <td>0.785</td>\n      <td>-5.457</td>\n      <td>0.01490</td>\n      <td>0.0506</td>\n      <td>0.004320</td>\n      <td>0.2850</td>\n      <td>0.894</td>\n      <td>121.962</td>\n      <td>176219</td>\n      <td>Dance/Electronic</td>\n    </tr>\n    <tr>\n      <th>4</th>\n      <td>Dua Lipa</td>\n      <td>Future Nostalgia</td>\n      <td>Don't Start Now</td>\n      <td>3PfIrDoz19wz7qK7tYeu62</td>\n      <td>0.793</td>\n      <td>0.793</td>\n      <td>-4.521</td>\n      <td>0.01230</td>\n      <td>0.0830</td>\n      <td>0.000000</td>\n      <td>0.0951</td>\n      <td>0.679</td>\n      <td>123.950</td>\n      <td>183290</td>\n      <td>Nu-disco</td>\n    </tr>\n  </tbody>\n</table>\n</div>"
     },
     "execution_count": 91,
     "metadata": {},
     "output_type": "execute_result"
    }
   ],
   "source": [
    "df_copy.head()"
   ],
   "metadata": {
    "collapsed": false,
    "pycharm": {
     "name": "#%%\n"
    }
   }
  },
  {
   "cell_type": "code",
   "execution_count": 92,
   "outputs": [],
   "source": [
    "df_correlation = df_copy.corr()"
   ],
   "metadata": {
    "collapsed": false,
    "pycharm": {
     "name": "#%%\n"
    }
   }
  },
  {
   "cell_type": "code",
   "execution_count": 93,
   "outputs": [
    {
     "data": {
      "text/plain": "                   energy  danceability  loudness  acousticness  speechiness  \\\nenergy            1.00000           NaN   0.79164           NaN          NaN   \ndanceability          NaN           1.0       NaN           NaN          NaN   \nloudness          0.79164           NaN   1.00000           NaN          NaN   \nacousticness          NaN           NaN       NaN           1.0          NaN   \nspeechiness           NaN           NaN       NaN           NaN          1.0   \ninstrumentalness      NaN           NaN       NaN           NaN          NaN   \nliveness              NaN           NaN       NaN           NaN          NaN   \nvalence               NaN           NaN       NaN           NaN          NaN   \ntempo                 NaN           NaN       NaN           NaN          NaN   \nduration_ms           NaN           NaN       NaN           NaN          NaN   \n\n                  instrumentalness  liveness  valence  tempo  duration_ms  \nenergy                         NaN       NaN      NaN    NaN          NaN  \ndanceability                   NaN       NaN      NaN    NaN          NaN  \nloudness                       NaN       NaN      NaN    NaN          NaN  \nacousticness                   NaN       NaN      NaN    NaN          NaN  \nspeechiness                    NaN       NaN      NaN    NaN          NaN  \ninstrumentalness               1.0       NaN      NaN    NaN          NaN  \nliveness                       NaN       1.0      NaN    NaN          NaN  \nvalence                        NaN       NaN      1.0    NaN          NaN  \ntempo                          NaN       NaN      NaN    1.0          NaN  \nduration_ms                    NaN       NaN      NaN    NaN          1.0  ",
      "text/html": "<div>\n<style scoped>\n    .dataframe tbody tr th:only-of-type {\n        vertical-align: middle;\n    }\n\n    .dataframe tbody tr th {\n        vertical-align: top;\n    }\n\n    .dataframe thead th {\n        text-align: right;\n    }\n</style>\n<table border=\"1\" class=\"dataframe\">\n  <thead>\n    <tr style=\"text-align: right;\">\n      <th></th>\n      <th>energy</th>\n      <th>danceability</th>\n      <th>loudness</th>\n      <th>acousticness</th>\n      <th>speechiness</th>\n      <th>instrumentalness</th>\n      <th>liveness</th>\n      <th>valence</th>\n      <th>tempo</th>\n      <th>duration_ms</th>\n    </tr>\n  </thead>\n  <tbody>\n    <tr>\n      <th>energy</th>\n      <td>1.00000</td>\n      <td>NaN</td>\n      <td>0.79164</td>\n      <td>NaN</td>\n      <td>NaN</td>\n      <td>NaN</td>\n      <td>NaN</td>\n      <td>NaN</td>\n      <td>NaN</td>\n      <td>NaN</td>\n    </tr>\n    <tr>\n      <th>danceability</th>\n      <td>NaN</td>\n      <td>1.0</td>\n      <td>NaN</td>\n      <td>NaN</td>\n      <td>NaN</td>\n      <td>NaN</td>\n      <td>NaN</td>\n      <td>NaN</td>\n      <td>NaN</td>\n      <td>NaN</td>\n    </tr>\n    <tr>\n      <th>loudness</th>\n      <td>0.79164</td>\n      <td>NaN</td>\n      <td>1.00000</td>\n      <td>NaN</td>\n      <td>NaN</td>\n      <td>NaN</td>\n      <td>NaN</td>\n      <td>NaN</td>\n      <td>NaN</td>\n      <td>NaN</td>\n    </tr>\n    <tr>\n      <th>acousticness</th>\n      <td>NaN</td>\n      <td>NaN</td>\n      <td>NaN</td>\n      <td>1.0</td>\n      <td>NaN</td>\n      <td>NaN</td>\n      <td>NaN</td>\n      <td>NaN</td>\n      <td>NaN</td>\n      <td>NaN</td>\n    </tr>\n    <tr>\n      <th>speechiness</th>\n      <td>NaN</td>\n      <td>NaN</td>\n      <td>NaN</td>\n      <td>NaN</td>\n      <td>1.0</td>\n      <td>NaN</td>\n      <td>NaN</td>\n      <td>NaN</td>\n      <td>NaN</td>\n      <td>NaN</td>\n    </tr>\n    <tr>\n      <th>instrumentalness</th>\n      <td>NaN</td>\n      <td>NaN</td>\n      <td>NaN</td>\n      <td>NaN</td>\n      <td>NaN</td>\n      <td>1.0</td>\n      <td>NaN</td>\n      <td>NaN</td>\n      <td>NaN</td>\n      <td>NaN</td>\n    </tr>\n    <tr>\n      <th>liveness</th>\n      <td>NaN</td>\n      <td>NaN</td>\n      <td>NaN</td>\n      <td>NaN</td>\n      <td>NaN</td>\n      <td>NaN</td>\n      <td>1.0</td>\n      <td>NaN</td>\n      <td>NaN</td>\n      <td>NaN</td>\n    </tr>\n    <tr>\n      <th>valence</th>\n      <td>NaN</td>\n      <td>NaN</td>\n      <td>NaN</td>\n      <td>NaN</td>\n      <td>NaN</td>\n      <td>NaN</td>\n      <td>NaN</td>\n      <td>1.0</td>\n      <td>NaN</td>\n      <td>NaN</td>\n    </tr>\n    <tr>\n      <th>tempo</th>\n      <td>NaN</td>\n      <td>NaN</td>\n      <td>NaN</td>\n      <td>NaN</td>\n      <td>NaN</td>\n      <td>NaN</td>\n      <td>NaN</td>\n      <td>NaN</td>\n      <td>1.0</td>\n      <td>NaN</td>\n    </tr>\n    <tr>\n      <th>duration_ms</th>\n      <td>NaN</td>\n      <td>NaN</td>\n      <td>NaN</td>\n      <td>NaN</td>\n      <td>NaN</td>\n      <td>NaN</td>\n      <td>NaN</td>\n      <td>NaN</td>\n      <td>NaN</td>\n      <td>1.0</td>\n    </tr>\n  </tbody>\n</table>\n</div>"
     },
     "execution_count": 93,
     "metadata": {},
     "output_type": "execute_result"
    }
   ],
   "source": [
    "df_correlation[df_correlation>=0.7]"
   ],
   "metadata": {
    "collapsed": false,
    "pycharm": {
     "name": "#%%\n"
    }
   }
  },
  {
   "cell_type": "markdown",
   "source": [
    "## Which features are strongly negatively correlated?"
   ],
   "metadata": {
    "collapsed": false
   }
  },
  {
   "cell_type": "code",
   "execution_count": 94,
   "outputs": [
    {
     "data": {
      "text/plain": "                    energy  danceability  loudness  acousticness  speechiness  \\\nenergy                 NaN           NaN       NaN     -0.682479          NaN   \ndanceability           NaN           NaN       NaN           NaN          NaN   \nloudness               NaN           NaN       NaN           NaN          NaN   \nacousticness     -0.682479           NaN       NaN           NaN          NaN   \nspeechiness            NaN           NaN       NaN           NaN          NaN   \ninstrumentalness       NaN           NaN       NaN           NaN          NaN   \nliveness               NaN           NaN       NaN           NaN          NaN   \nvalence                NaN           NaN       NaN           NaN          NaN   \ntempo                  NaN           NaN       NaN           NaN          NaN   \nduration_ms            NaN           NaN       NaN           NaN          NaN   \n\n                  instrumentalness  liveness  valence  tempo  duration_ms  \nenergy                         NaN       NaN      NaN    NaN          NaN  \ndanceability                   NaN       NaN      NaN    NaN          NaN  \nloudness                       NaN       NaN      NaN    NaN          NaN  \nacousticness                   NaN       NaN      NaN    NaN          NaN  \nspeechiness                    NaN       NaN      NaN    NaN          NaN  \ninstrumentalness               NaN       NaN      NaN    NaN          NaN  \nliveness                       NaN       NaN      NaN    NaN          NaN  \nvalence                        NaN       NaN      NaN    NaN          NaN  \ntempo                          NaN       NaN      NaN    NaN          NaN  \nduration_ms                    NaN       NaN      NaN    NaN          NaN  ",
      "text/html": "<div>\n<style scoped>\n    .dataframe tbody tr th:only-of-type {\n        vertical-align: middle;\n    }\n\n    .dataframe tbody tr th {\n        vertical-align: top;\n    }\n\n    .dataframe thead th {\n        text-align: right;\n    }\n</style>\n<table border=\"1\" class=\"dataframe\">\n  <thead>\n    <tr style=\"text-align: right;\">\n      <th></th>\n      <th>energy</th>\n      <th>danceability</th>\n      <th>loudness</th>\n      <th>acousticness</th>\n      <th>speechiness</th>\n      <th>instrumentalness</th>\n      <th>liveness</th>\n      <th>valence</th>\n      <th>tempo</th>\n      <th>duration_ms</th>\n    </tr>\n  </thead>\n  <tbody>\n    <tr>\n      <th>energy</th>\n      <td>NaN</td>\n      <td>NaN</td>\n      <td>NaN</td>\n      <td>-0.682479</td>\n      <td>NaN</td>\n      <td>NaN</td>\n      <td>NaN</td>\n      <td>NaN</td>\n      <td>NaN</td>\n      <td>NaN</td>\n    </tr>\n    <tr>\n      <th>danceability</th>\n      <td>NaN</td>\n      <td>NaN</td>\n      <td>NaN</td>\n      <td>NaN</td>\n      <td>NaN</td>\n      <td>NaN</td>\n      <td>NaN</td>\n      <td>NaN</td>\n      <td>NaN</td>\n      <td>NaN</td>\n    </tr>\n    <tr>\n      <th>loudness</th>\n      <td>NaN</td>\n      <td>NaN</td>\n      <td>NaN</td>\n      <td>NaN</td>\n      <td>NaN</td>\n      <td>NaN</td>\n      <td>NaN</td>\n      <td>NaN</td>\n      <td>NaN</td>\n      <td>NaN</td>\n    </tr>\n    <tr>\n      <th>acousticness</th>\n      <td>-0.682479</td>\n      <td>NaN</td>\n      <td>NaN</td>\n      <td>NaN</td>\n      <td>NaN</td>\n      <td>NaN</td>\n      <td>NaN</td>\n      <td>NaN</td>\n      <td>NaN</td>\n      <td>NaN</td>\n    </tr>\n    <tr>\n      <th>speechiness</th>\n      <td>NaN</td>\n      <td>NaN</td>\n      <td>NaN</td>\n      <td>NaN</td>\n      <td>NaN</td>\n      <td>NaN</td>\n      <td>NaN</td>\n      <td>NaN</td>\n      <td>NaN</td>\n      <td>NaN</td>\n    </tr>\n    <tr>\n      <th>instrumentalness</th>\n      <td>NaN</td>\n      <td>NaN</td>\n      <td>NaN</td>\n      <td>NaN</td>\n      <td>NaN</td>\n      <td>NaN</td>\n      <td>NaN</td>\n      <td>NaN</td>\n      <td>NaN</td>\n      <td>NaN</td>\n    </tr>\n    <tr>\n      <th>liveness</th>\n      <td>NaN</td>\n      <td>NaN</td>\n      <td>NaN</td>\n      <td>NaN</td>\n      <td>NaN</td>\n      <td>NaN</td>\n      <td>NaN</td>\n      <td>NaN</td>\n      <td>NaN</td>\n      <td>NaN</td>\n    </tr>\n    <tr>\n      <th>valence</th>\n      <td>NaN</td>\n      <td>NaN</td>\n      <td>NaN</td>\n      <td>NaN</td>\n      <td>NaN</td>\n      <td>NaN</td>\n      <td>NaN</td>\n      <td>NaN</td>\n      <td>NaN</td>\n      <td>NaN</td>\n    </tr>\n    <tr>\n      <th>tempo</th>\n      <td>NaN</td>\n      <td>NaN</td>\n      <td>NaN</td>\n      <td>NaN</td>\n      <td>NaN</td>\n      <td>NaN</td>\n      <td>NaN</td>\n      <td>NaN</td>\n      <td>NaN</td>\n      <td>NaN</td>\n    </tr>\n    <tr>\n      <th>duration_ms</th>\n      <td>NaN</td>\n      <td>NaN</td>\n      <td>NaN</td>\n      <td>NaN</td>\n      <td>NaN</td>\n      <td>NaN</td>\n      <td>NaN</td>\n      <td>NaN</td>\n      <td>NaN</td>\n      <td>NaN</td>\n    </tr>\n  </tbody>\n</table>\n</div>"
     },
     "execution_count": 94,
     "metadata": {},
     "output_type": "execute_result"
    }
   ],
   "source": [
    "df_correlation[df_correlation<=-0.6]"
   ],
   "metadata": {
    "collapsed": false,
    "pycharm": {
     "name": "#%%\n"
    }
   }
  },
  {
   "cell_type": "markdown",
   "source": [
    "Strongly negative correlation is from -0.6 till -1.0. No values were detected on -0.7"
   ],
   "metadata": {
    "collapsed": false
   }
  },
  {
   "cell_type": "code",
   "execution_count": 101,
   "outputs": [
    {
     "data": {
      "text/plain": "<Figure size 600x600 with 2 Axes>",
      "image/png": "[encoded data removed]"
     },
     "metadata": {},
     "output_type": "display_data"
    }
   ],
   "source": [
    "fig, ax = plt.subplots(1, 1, figsize = (2, 2), dpi=300)\n",
    "sb.set(font_scale=0.25)\n",
    "correlation = sb.heatmap(round(df_copy.corr(),2), cmap=\"RdYlGn\", annot=True, vmin=-1, vmax=1)\n",
    "plt.show()"
   ],
   "metadata": {
    "collapsed": false,
    "pycharm": {
     "name": "#%%\n"
    }
   }
  },
  {
   "cell_type": "markdown",
   "source": [],
   "metadata": {
    "collapsed": false
   }
  },
  {
   "cell_type": "markdown",
   "source": [
    "Categorical features are not correlated."
   ],
   "metadata": {
    "collapsed": false
   }
  },
  {
   "cell_type": "code",
   "execution_count": 102,
   "outputs": [
    {
     "data": {
      "text/plain": "                  energy  danceability  loudness  acousticness  speechiness  \\\nenergy               1.0           NaN       NaN           NaN          NaN   \ndanceability         NaN           1.0       NaN           NaN          NaN   \nloudness             NaN           NaN       1.0           NaN          NaN   \nacousticness         NaN           NaN       NaN           1.0          NaN   \nspeechiness          NaN           NaN       NaN           NaN          1.0   \ninstrumentalness     NaN           NaN       NaN           NaN          NaN   \nliveness             NaN           NaN       NaN           NaN          NaN   \nvalence              NaN           NaN       NaN           NaN          NaN   \ntempo                NaN           NaN       NaN           NaN          NaN   \nduration_ms          NaN           NaN       NaN           NaN          NaN   \n\n                  instrumentalness  liveness  valence  tempo  duration_ms  \nenergy                         NaN       NaN      NaN    NaN          NaN  \ndanceability                   NaN       NaN      NaN    NaN          NaN  \nloudness                       NaN       NaN      NaN    NaN          NaN  \nacousticness                   NaN       NaN      NaN    NaN          NaN  \nspeechiness                    NaN       NaN      NaN    NaN          NaN  \ninstrumentalness               1.0       NaN      NaN    NaN          NaN  \nliveness                       NaN       1.0      NaN    NaN          NaN  \nvalence                        NaN       NaN      1.0    NaN          NaN  \ntempo                          NaN       NaN      NaN    1.0          NaN  \nduration_ms                    NaN       NaN      NaN    NaN          1.0  ",
      "text/html": "<div>\n<style scoped>\n    .dataframe tbody tr th:only-of-type {\n        vertical-align: middle;\n    }\n\n    .dataframe tbody tr th {\n        vertical-align: top;\n    }\n\n    .dataframe thead th {\n        text-align: right;\n    }\n</style>\n<table border=\"1\" class=\"dataframe\">\n  <thead>\n    <tr style=\"text-align: right;\">\n      <th></th>\n      <th>energy</th>\n      <th>danceability</th>\n      <th>loudness</th>\n      <th>acousticness</th>\n      <th>speechiness</th>\n      <th>instrumentalness</th>\n      <th>liveness</th>\n      <th>valence</th>\n      <th>tempo</th>\n      <th>duration_ms</th>\n    </tr>\n  </thead>\n  <tbody>\n    <tr>\n      <th>energy</th>\n      <td>1.0</td>\n      <td>NaN</td>\n      <td>NaN</td>\n      <td>NaN</td>\n      <td>NaN</td>\n      <td>NaN</td>\n      <td>NaN</td>\n      <td>NaN</td>\n      <td>NaN</td>\n      <td>NaN</td>\n    </tr>\n    <tr>\n      <th>danceability</th>\n      <td>NaN</td>\n      <td>1.0</td>\n      <td>NaN</td>\n      <td>NaN</td>\n      <td>NaN</td>\n      <td>NaN</td>\n      <td>NaN</td>\n      <td>NaN</td>\n      <td>NaN</td>\n      <td>NaN</td>\n    </tr>\n    <tr>\n      <th>loudness</th>\n      <td>NaN</td>\n      <td>NaN</td>\n      <td>1.0</td>\n      <td>NaN</td>\n      <td>NaN</td>\n      <td>NaN</td>\n      <td>NaN</td>\n      <td>NaN</td>\n      <td>NaN</td>\n      <td>NaN</td>\n    </tr>\n    <tr>\n      <th>acousticness</th>\n      <td>NaN</td>\n      <td>NaN</td>\n      <td>NaN</td>\n      <td>1.0</td>\n      <td>NaN</td>\n      <td>NaN</td>\n      <td>NaN</td>\n      <td>NaN</td>\n      <td>NaN</td>\n      <td>NaN</td>\n    </tr>\n    <tr>\n      <th>speechiness</th>\n      <td>NaN</td>\n      <td>NaN</td>\n      <td>NaN</td>\n      <td>NaN</td>\n      <td>1.0</td>\n      <td>NaN</td>\n      <td>NaN</td>\n      <td>NaN</td>\n      <td>NaN</td>\n      <td>NaN</td>\n    </tr>\n    <tr>\n      <th>instrumentalness</th>\n      <td>NaN</td>\n      <td>NaN</td>\n      <td>NaN</td>\n      <td>NaN</td>\n      <td>NaN</td>\n      <td>1.0</td>\n      <td>NaN</td>\n      <td>NaN</td>\n      <td>NaN</td>\n      <td>NaN</td>\n    </tr>\n    <tr>\n      <th>liveness</th>\n      <td>NaN</td>\n      <td>NaN</td>\n      <td>NaN</td>\n      <td>NaN</td>\n      <td>NaN</td>\n      <td>NaN</td>\n      <td>1.0</td>\n      <td>NaN</td>\n      <td>NaN</td>\n      <td>NaN</td>\n    </tr>\n    <tr>\n      <th>valence</th>\n      <td>NaN</td>\n      <td>NaN</td>\n      <td>NaN</td>\n      <td>NaN</td>\n      <td>NaN</td>\n      <td>NaN</td>\n      <td>NaN</td>\n      <td>1.0</td>\n      <td>NaN</td>\n      <td>NaN</td>\n    </tr>\n    <tr>\n      <th>tempo</th>\n      <td>NaN</td>\n      <td>NaN</td>\n      <td>NaN</td>\n      <td>NaN</td>\n      <td>NaN</td>\n      <td>NaN</td>\n      <td>NaN</td>\n      <td>NaN</td>\n      <td>1.0</td>\n      <td>NaN</td>\n    </tr>\n    <tr>\n      <th>duration_ms</th>\n      <td>NaN</td>\n      <td>NaN</td>\n      <td>NaN</td>\n      <td>NaN</td>\n      <td>NaN</td>\n      <td>NaN</td>\n      <td>NaN</td>\n      <td>NaN</td>\n      <td>NaN</td>\n      <td>1.0</td>\n    </tr>\n  </tbody>\n</table>\n</div>"
     },
     "execution_count": 102,
     "metadata": {},
     "output_type": "execute_result"
    }
   ],
   "source": [
    "df_correlation[df_correlation==1.0]"
   ],
   "metadata": {
    "collapsed": false,
    "pycharm": {
     "name": "#%%\n"
    }
   }
  },
  {
   "cell_type": "markdown",
   "source": [
    "## How the danceability score compares between Pop, Hip-Hop/Rap, Dance/Electronic, and Alternative/Indie genres?"
   ],
   "metadata": {
    "collapsed": false
   }
  },
  {
   "cell_type": "code",
   "execution_count": 103,
   "outputs": [],
   "source": [
    "genres = [\"Pop\", \"Hip-Hop/Rap\", \"Dance/Electronic\", \"Alternative/Indie\"]"
   ],
   "metadata": {
    "collapsed": false,
    "pycharm": {
     "name": "#%%\n"
    }
   }
  },
  {
   "cell_type": "code",
   "execution_count": 104,
   "outputs": [
    {
     "data": {
      "text/plain": "                   danceability\ngenre                          \nHip-Hop/Rap            0.765538\nDance/Electronic       0.755000\nPop                    0.677571\nAlternative/Indie      0.661750",
      "text/html": "<div>\n<style scoped>\n    .dataframe tbody tr th:only-of-type {\n        vertical-align: middle;\n    }\n\n    .dataframe tbody tr th {\n        vertical-align: top;\n    }\n\n    .dataframe thead th {\n        text-align: right;\n    }\n</style>\n<table border=\"1\" class=\"dataframe\">\n  <thead>\n    <tr style=\"text-align: right;\">\n      <th></th>\n      <th>danceability</th>\n    </tr>\n    <tr>\n      <th>genre</th>\n      <th></th>\n    </tr>\n  </thead>\n  <tbody>\n    <tr>\n      <th>Hip-Hop/Rap</th>\n      <td>0.765538</td>\n    </tr>\n    <tr>\n      <th>Dance/Electronic</th>\n      <td>0.755000</td>\n    </tr>\n    <tr>\n      <th>Pop</th>\n      <td>0.677571</td>\n    </tr>\n    <tr>\n      <th>Alternative/Indie</th>\n      <td>0.661750</td>\n    </tr>\n  </tbody>\n</table>\n</div>"
     },
     "execution_count": 104,
     "metadata": {},
     "output_type": "execute_result"
    }
   ],
   "source": [
    "df[[\"danceability\", \"genre\"]].groupby(\"genre\").mean().loc[genres].sort_values('danceability', ascending=False)"
   ],
   "metadata": {
    "collapsed": false,
    "pycharm": {
     "name": "#%%\n"
    }
   }
  },
  {
   "cell_type": "markdown",
   "source": [
    "Dancebility score of Dance/Electronics is highest (0.935000)."
   ],
   "metadata": {
    "collapsed": false
   }
  },
  {
   "cell_type": "markdown",
   "source": [
    "## How the loudness score compares between Pop, Hip-Hop/Rap, Dance/Electronic, and Alternative/Indie genres?"
   ],
   "metadata": {
    "collapsed": false
   }
  },
  {
   "cell_type": "code",
   "execution_count": 105,
   "outputs": [
    {
     "data": {
      "text/plain": "                   loudness\ngenre                      \nDance/Electronic  -5.338000\nAlternative/Indie -5.421000\nPop               -6.460357\nHip-Hop/Rap       -6.917846",
      "text/html": "<div>\n<style scoped>\n    .dataframe tbody tr th:only-of-type {\n        vertical-align: middle;\n    }\n\n    .dataframe tbody tr th {\n        vertical-align: top;\n    }\n\n    .dataframe thead th {\n        text-align: right;\n    }\n</style>\n<table border=\"1\" class=\"dataframe\">\n  <thead>\n    <tr style=\"text-align: right;\">\n      <th></th>\n      <th>loudness</th>\n    </tr>\n    <tr>\n      <th>genre</th>\n      <th></th>\n    </tr>\n  </thead>\n  <tbody>\n    <tr>\n      <th>Dance/Electronic</th>\n      <td>-5.338000</td>\n    </tr>\n    <tr>\n      <th>Alternative/Indie</th>\n      <td>-5.421000</td>\n    </tr>\n    <tr>\n      <th>Pop</th>\n      <td>-6.460357</td>\n    </tr>\n    <tr>\n      <th>Hip-Hop/Rap</th>\n      <td>-6.917846</td>\n    </tr>\n  </tbody>\n</table>\n</div>"
     },
     "execution_count": 105,
     "metadata": {},
     "output_type": "execute_result"
    }
   ],
   "source": [
    "df[[\"loudness\",\"genre\"]].groupby(\"genre\").mean().loc[genres].sort_values('loudness', ascending=False)"
   ],
   "metadata": {
    "collapsed": false,
    "pycharm": {
     "name": "#%%\n"
    }
   }
  },
  {
   "cell_type": "markdown",
   "source": [
    "Highest loudness score is for Hip-Hop/Rap (6.917846)"
   ],
   "metadata": {
    "collapsed": false
   }
  },
  {
   "cell_type": "markdown",
   "source": [
    "## How the acousticness score compares between Pop, Hip-Hop/Rap, Dance/Electronic, and Alternative/Indie genres?"
   ],
   "metadata": {
    "collapsed": false
   }
  },
  {
   "cell_type": "code",
   "execution_count": 106,
   "outputs": [
    {
     "data": {
      "text/plain": "                   acousticness\ngenre                          \nAlternative/Indie      0.583500\nPop                    0.323843\nHip-Hop/Rap            0.188741\nDance/Electronic       0.099440",
      "text/html": "<div>\n<style scoped>\n    .dataframe tbody tr th:only-of-type {\n        vertical-align: middle;\n    }\n\n    .dataframe tbody tr th {\n        vertical-align: top;\n    }\n\n    .dataframe thead th {\n        text-align: right;\n    }\n</style>\n<table border=\"1\" class=\"dataframe\">\n  <thead>\n    <tr style=\"text-align: right;\">\n      <th></th>\n      <th>acousticness</th>\n    </tr>\n    <tr>\n      <th>genre</th>\n      <th></th>\n    </tr>\n  </thead>\n  <tbody>\n    <tr>\n      <th>Alternative/Indie</th>\n      <td>0.583500</td>\n    </tr>\n    <tr>\n      <th>Pop</th>\n      <td>0.323843</td>\n    </tr>\n    <tr>\n      <th>Hip-Hop/Rap</th>\n      <td>0.188741</td>\n    </tr>\n    <tr>\n      <th>Dance/Electronic</th>\n      <td>0.099440</td>\n    </tr>\n  </tbody>\n</table>\n</div>"
     },
     "execution_count": 106,
     "metadata": {},
     "output_type": "execute_result"
    }
   ],
   "source": [
    "df[[\"acousticness\", \"genre\"]].groupby(\"genre\").mean().loc[genres].sort_values('acousticness', ascending=False)"
   ],
   "metadata": {
    "collapsed": false,
    "pycharm": {
     "name": "#%%\n"
    }
   }
  },
  {
   "cell_type": "markdown",
   "source": [
    "Alternative/Indie has the highest acousticness score of (0.583500)"
   ],
   "metadata": {
    "collapsed": false,
    "pycharm": {
     "name": "#%% md\n"
    }
   }
  },
  {
   "cell_type": "markdown",
   "source": [
    "# Conclusion:\n",
    "From this EDA we can see:\n",
    "- Dataset provided did not need any cleaning.\n",
    "- All above question were answered.\n",
    "- No fields without values were found.\n",
    "- Outliers found but not removed, because they are essential for dataframe.\n",
    "- Key value marked as categorical.\n",
    "\n",
    "The most popular genre in top 50 is pop. The most popular artist with most popular album is Future Nostalgia from artis Dua Lipa."
   ],
   "metadata": {
    "collapsed": false,
    "pycharm": {
     "name": "#%% md\n"
    }
   }
  }
 ]
}